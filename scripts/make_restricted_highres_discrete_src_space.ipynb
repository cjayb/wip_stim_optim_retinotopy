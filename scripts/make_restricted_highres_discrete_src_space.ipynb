{
 "cells": [
  {
   "cell_type": "markdown",
   "metadata": {},
   "source": [
    "# Calculate gain matrix restricted to occipital lobe\n",
    "\n",
    "- create surface source spaces from __all__ vertices in white matter\n",
    "- find vertices that match the union of `{l,r}h.RM.annot`-vertices, use\n",
    "    - `pos['rr'] ~ src[hemi_idx]['rr']`: locations restricted to labels\n",
    "    - `pos['nn'] ~ src[hemi_idx]['nn']`: surface normals restricted to labels\n",
    "    - `pos['verts']`: indices into original surface for each `rr`\n",
    "- use `setup_volume_source_space` with the `pos`-dict to create a discrete source space\n",
    "- create a standard BEM\n",
    "- calculate the fwd-operator using the BEM, save to disk"
   ]
  },
  {
   "cell_type": "code",
   "execution_count": 1,
   "metadata": {
    "collapsed": true
   },
   "outputs": [],
   "source": [
    "import numpy as np\n",
    "from os.path import join\n",
    "from mne import setup_source_space, setup_volume_source_space, SourceSpaces\n",
    "from mne import read_labels_from_annot\n",
    "from mne import (make_bem_model, make_bem_solution,\n",
    "                 make_forward_solution, write_forward_solution)\n",
    "from collections import OrderedDict\n",
    "from functools import reduce\n",
    "from operator import add"
   ]
  },
  {
   "cell_type": "code",
   "execution_count": 2,
   "metadata": {
    "collapsed": true
   },
   "outputs": [],
   "source": [
    "data_path = '/Users/cjb/projects/CFF_Retinotopy/scratch'\n",
    "subject = '030_WAH'\n",
    "subjects_dir = join(data_path, 'fs_subjects_dir')\n",
    "fname_raw = join(data_path, 'VS1_cropped1sec.fif')\n",
    "fname_trans = join(data_path, '030_WAH-trans.fif')\n",
    "fname_fwd = join(data_path, 'restricted_1LBEM-fwd.fif')"
   ]
  },
  {
   "cell_type": "markdown",
   "metadata": {},
   "source": [
    "First load the surface source spaces"
   ]
  },
  {
   "cell_type": "code",
   "execution_count": 3,
   "metadata": {
    "collapsed": false
   },
   "outputs": [
    {
     "name": "stdout",
     "output_type": "stream",
     "text": [
      "Setting up the source space with the following parameters:\n",
      "\n",
      "SUBJECTS_DIR = /Users/cjb/projects/CFF_Retinotopy/scratch/fs_subjects_dir\n",
      "Subject      = 030_WAH\n",
      "Surface      = white\n",
      "Include all vertices\n",
      "\n",
      ">>> 1. Creating the source space...\n",
      "\n",
      "Loading /Users/cjb/projects/CFF_Retinotopy/scratch/fs_subjects_dir/030_WAH/surf/lh.white...\n",
      "    Triangle neighbors and vertex normals...\n",
      "loaded lh.white 162628/162628 selected to source space (all)\n",
      "\n",
      "Loading /Users/cjb/projects/CFF_Retinotopy/scratch/fs_subjects_dir/030_WAH/surf/rh.white...\n",
      "    Triangle neighbors and vertex normals...\n",
      "loaded rh.white 158658/158658 selected to source space (all)\n",
      "\n",
      "You are now one step closer to computing the gain matrix\n"
     ]
    }
   ],
   "source": [
    "orig_src = setup_source_space('030_WAH', fname=None, spacing='all',\n",
    "                              surface='white', add_dist=False,\n",
    "                              subjects_dir=subjects_dir)"
   ]
  },
  {
   "cell_type": "code",
   "execution_count": 6,
   "metadata": {
    "collapsed": false
   },
   "outputs": [
    {
     "name": "stdout",
     "output_type": "stream",
     "text": [
      "Reading labels from parcellation..\n",
      "   read 21 labels from /Users/cjb/projects/CFF_Retinotopy/scratch/fs_subjects_dir/030_WAH/label/lh.RM.annot\n",
      "[done]\n",
      "Reading labels from parcellation..\n",
      "   read 21 labels from /Users/cjb/projects/CFF_Retinotopy/scratch/fs_subjects_dir/030_WAH/label/rh.RM.annot\n",
      "[done]\n"
     ]
    }
   ],
   "source": [
    "all_labels = OrderedDict()\n",
    "use_verts = dict()\n",
    "use_tris = dict()\n",
    "for hemi_idx, hemi in enumerate(['lh', 'rh']):\n",
    "    labels = read_labels_from_annot(subject,\n",
    "                                    parc='RM', regexp='RM',\n",
    "                                    subjects_dir=subjects_dir,\n",
    "                                    hemi=hemi)\n",
    "    comb_label = reduce(add, labels)\n",
    "    use_verts[hemi] = np.where(np.in1d(orig_src[hemi_idx]['vertno'],\n",
    "                                       comb_label.vertices))[0]\n",
    "    # find all triangles with at least one included vertex\n",
    "    rows = np.any(np.in1d(orig_src[hemi_idx]['tris'].ravel(),\n",
    "                          use_verts[hemi].ravel()).\\\n",
    "                  reshape(orig_src[hemi_idx]['tris'].shape), axis=1)\n",
    "    use_tris[hemi] = orig_src[hemi_idx]['tris'][rows]"
   ]
  },
  {
   "cell_type": "code",
   "execution_count": 7,
   "metadata": {
    "collapsed": false,
    "scrolled": true
   },
   "outputs": [],
   "source": [
    "for hidx, hemi in enumerate(['lh', 'rh']):\n",
    "    orig_src[hidx]['vertno'] = use_verts[hemi]\n",
    "    orig_src[hidx]['nuse'] = len(use_verts[hemi])\n",
    "    orig_src[hidx]['use_tris'] = use_tris[hemi]\n",
    "    orig_src[hidx]['nuse_tri'] = len(use_tris[hemi])\n",
    "    orig_src[hidx]['inuse'] = np.zeros(orig_src[hidx]['np'], int)\n",
    "    orig_src[hidx]['inuse'][use_verts[hemi]] = 1"
   ]
  },
  {
   "cell_type": "markdown",
   "metadata": {},
   "source": [
    "## Forward calculation using BEM"
   ]
  },
  {
   "cell_type": "markdown",
   "metadata": {},
   "source": [
    "### Uncomment these for diagnostic images"
   ]
  },
  {
   "cell_type": "code",
   "execution_count": 9,
   "metadata": {
    "collapsed": true
   },
   "outputs": [],
   "source": [
    "# %matplotlib qt"
   ]
  },
  {
   "cell_type": "code",
   "execution_count": 10,
   "metadata": {
    "collapsed": false,
    "scrolled": true
   },
   "outputs": [],
   "source": [
    "# from mne.viz import plot_bem\n",
    "# plot_bem(subject=subject, subjects_dir=subjects_dir,\n",
    "#          brain_surfaces='white', src=orig_src, orientation='coronal')"
   ]
  },
  {
   "cell_type": "code",
   "execution_count": 11,
   "metadata": {
    "collapsed": false
   },
   "outputs": [],
   "source": [
    "# from mayavi import mlab  # noqa\n",
    "# from surfer import Brain  # noqa\n",
    "\n",
    "# brain = Brain(subject, 'lh', 'inflated', subjects_dir=subjects_dir)\n",
    "# surf = brain._geo\n",
    "\n",
    "# vertidx = np.where(orig_src[0]['inuse'])[0]\n",
    "# # vertidx = pos['vertno'][0]\n",
    "\n",
    "# mlab.points3d(surf.x[vertidx], surf.y[vertidx],\n",
    "#               surf.z[vertidx], color=(1, 1, 0), scale_factor=1.0)"
   ]
  },
  {
   "cell_type": "code",
   "execution_count": 12,
   "metadata": {
    "collapsed": false
   },
   "outputs": [
    {
     "name": "stdout",
     "output_type": "stream",
     "text": [
      "Creating the BEM geometry...\n",
      "Going from 5th to 4th subdivision of an icosahedron (n_tri: 20480 -> 5120)\n",
      "inner skull CM is   1.23 -24.49  25.31 mm\n",
      "Surfaces passed the basic topology checks.\n",
      "Complete.\n",
      "\n",
      "Approximation method : Linear collocation\n",
      "\n",
      "Homogeneous model surface loaded.\n",
      "Computing the linear collocation solution...\n",
      "    Matrix coefficients...\n",
      "        inner_skull (2562) -> inner_skull (2562) ...\n",
      "    Inverting the coefficient matrix...\n",
      "Solution ready.\n",
      "BEM geometry computations complete.\n"
     ]
    }
   ],
   "source": [
    "conductivity = (0.3,)  # for single layer\n",
    "# conductivity = (0.3, 0.006, 0.3)  # for three layers\n",
    "model = make_bem_model(subject=subject, ico=4,\n",
    "                       conductivity=conductivity,\n",
    "                       subjects_dir=subjects_dir)\n",
    "bem = make_bem_solution(model)"
   ]
  },
  {
   "cell_type": "code",
   "execution_count": 13,
   "metadata": {
    "collapsed": false
   },
   "outputs": [
    {
     "name": "stdout",
     "output_type": "stream",
     "text": [
      "Source space                 : <SourceSpaces: [<surface (lh), n_vertices=162628, n_used=4661, coordinate_frame=MRI (surface RAS)>, <surface (rh), n_vertices=158658, n_used=5039, coordinate_frame=MRI (surface RAS)>]>\n",
      "MRI -> head transform source : /Users/cjb/projects/CFF_Retinotopy/scratch/030_WAH-trans.fif\n",
      "Measurement data             : VS1_cropped1sec.fif\n",
      "BEM model                    : dict\n",
      "Accurate field computations\n",
      "Do computations in head coordinates\n",
      "Free source orientations\n",
      "Destination for the solution : None\n",
      "\n",
      "Read 2 source spaces a total of 9700 active source locations\n",
      "\n",
      "Coordinate transformation: MRI (surface RAS) -> head\n",
      "     0.999768  0.010701  0.018671      -1.60 mm\n",
      "    -0.014853  0.970947  0.238832      23.19 mm\n",
      "    -0.015572 -0.239054  0.970881      25.68 mm\n",
      "     0.000000  0.000000  0.000000       1.00\n",
      "\n",
      "Read 306 MEG channels from info\n",
      "72 coil definitions read\n",
      "Coordinate transformation: MEG device -> head\n",
      "     0.998327 -0.055338  0.016745       5.77 mm\n",
      "     0.053596  0.994415  0.090923       1.98 mm\n",
      "    -0.021683 -0.089873  0.995717      61.32 mm\n",
      "     0.000000  0.000000  0.000000       1.00\n",
      "MEG coil definitions created in head coordinates.\n",
      "Source spaces are now in head coordinates.\n",
      "\n",
      "Employing the head->MRI coordinate transform with the BEM model.\n",
      "BEM model dict is now set up\n",
      "\n",
      "Source spaces are in head coordinates.\n",
      "Checking that the sources are inside the bounding surface and at least    5.0 mm away (will take a few...)\n"
     ]
    },
    {
     "name": "stderr",
     "output_type": "stream",
     "text": [
      "[Parallel(n_jobs=2)]: Done   3 out of   2 | elapsed:    4.0s remaining:   -1.3s\n",
      "[Parallel(n_jobs=2)]: Done   2 out of   2 | elapsed:    4.0s finished\n"
     ]
    },
    {
     "name": "stdout",
     "output_type": "stream",
     "text": [
      "Thank you for waiting.\n",
      "\n",
      "Setting up compensation data...\n",
      "    No compensation set. Nothing more to do.\n",
      "\n",
      "Composing the field computation matrix...\n"
     ]
    },
    {
     "name": "stderr",
     "output_type": "stream",
     "text": [
      "[Parallel(n_jobs=2)]: Done   3 out of   2 | elapsed:    4.8s remaining:   -1.6s\n",
      "[Parallel(n_jobs=2)]: Done   2 out of   2 | elapsed:    4.8s finished\n"
     ]
    },
    {
     "name": "stdout",
     "output_type": "stream",
     "text": [
      "Computing MEG at 9700 source locations (free orientations)...\n"
     ]
    },
    {
     "name": "stderr",
     "output_type": "stream",
     "text": [
      "[Parallel(n_jobs=2)]: Done   3 out of   2 | elapsed:    3.3s remaining:   -1.1s\n",
      "[Parallel(n_jobs=2)]: Done   2 out of   2 | elapsed:    3.3s finished\n",
      "[Parallel(n_jobs=2)]: Done   3 out of   2 | elapsed:   10.2s remaining:   -3.4s\n",
      "[Parallel(n_jobs=2)]: Done   2 out of   2 | elapsed:   10.2s finished\n",
      "[Parallel(n_jobs=2)]: Done   3 out of   2 | elapsed:    3.9s remaining:   -1.3s\n",
      "[Parallel(n_jobs=2)]: Done   2 out of   2 | elapsed:    3.9s finished\n"
     ]
    },
    {
     "name": "stdout",
     "output_type": "stream",
     "text": [
      "\n",
      "Finished.\n"
     ]
    }
   ],
   "source": [
    "fwd = make_forward_solution(fname_raw, trans=fname_trans, src=orig_src,\n",
    "                            bem=bem, fname=None, meg=True, eeg=False,\n",
    "                            mindist=5.0, n_jobs=2)"
   ]
  },
  {
   "cell_type": "code",
   "execution_count": 14,
   "metadata": {
    "collapsed": false,
    "scrolled": true
   },
   "outputs": [
    {
     "name": "stdout",
     "output_type": "stream",
     "text": [
      "Overwriting existing file.\n",
      "    Write a source space...\n",
      "    [done]\n",
      "    Write a source space...\n",
      "    [done]\n",
      "    2 source spaces written\n"
     ]
    }
   ],
   "source": [
    "write_forward_solution(fname_fwd, fwd, overwrite=True)"
   ]
  }
 ],
 "metadata": {
  "kernelspec": {
   "display_name": "Python [conda env:oldqt]",
   "language": "python",
   "name": "conda-env-oldqt-py"
  },
  "language_info": {
   "codemirror_mode": {
    "name": "ipython",
    "version": 3
   },
   "file_extension": ".py",
   "mimetype": "text/x-python",
   "name": "python",
   "nbconvert_exporter": "python",
   "pygments_lexer": "ipython3",
   "version": "3.5.2"
  }
 },
 "nbformat": 4,
 "nbformat_minor": 1
}
