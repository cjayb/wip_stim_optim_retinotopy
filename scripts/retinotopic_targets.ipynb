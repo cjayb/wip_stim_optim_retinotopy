{
 "cells": [
  {
   "cell_type": "code",
   "execution_count": null,
   "metadata": {
    "collapsed": false
   },
   "outputs": [],
   "source": [
    "from os import environ, makedirs\n",
    "from os.path import join\n",
    "subjects_dir = '/Users/cjb/projects/CFF_Retinotopy/scratch/fs_subjects_dir'\n",
    "subject = '030_WAH'\n",
    "lab_path = join(subjects_dir, subject, 'label')\n",
    "environ['SUBJECTS_DIR'] = subjects_dir\n",
    "environ['SUBJECT'] = subject"
   ]
  },
  {
   "cell_type": "markdown",
   "metadata": {},
   "source": [
    "# Retinotopic target locations\n",
    "\n",
    "This notebook generates the following Freesurfer annotation-files. Each file contains the cortical patch information for the retinotopic target locations defined earlier:\n",
    "\n",
    "- `[l|r]h.RM.annot`\n",
    "    - all labels, regardless of region\n",
    "- `[l|r]h.RM.V[1|2|3].annot`\n",
    "    - labels restricted to a particular visual region\n",
    "    \n",
    "## Note on colormap & LUT\n",
    "\n",
    "For some inexplicable reason, Freesurfer annotations do not work if labels share a colour: each label gets the name of the first region found in the LUT with the same colour! To avoid this, each region __must__ have a unique RGB colour.\n",
    "\n",
    "So, we'll paint the locations with eccentricity-dependent decline of saturation!\n",
    "\n",
    "### Must define None\n",
    "\n",
    "If not, `freeview` crashes on loading the `.annot`-file...?"
   ]
  },
  {
   "cell_type": "code",
   "execution_count": null,
   "metadata": {
    "collapsed": false
   },
   "outputs": [],
   "source": [
    "%matplotlib inline"
   ]
  },
  {
   "cell_type": "code",
   "execution_count": null,
   "metadata": {
    "collapsed": true
   },
   "outputs": [],
   "source": [
    "from retinotopic_helpers import *\n",
    "import subprocess as subp\n",
    "import glob\n",
    "import json\n",
    "import matplotlib.pyplot as plt"
   ]
  },
  {
   "cell_type": "code",
   "execution_count": null,
   "metadata": {
    "collapsed": false
   },
   "outputs": [],
   "source": [
    "# r, g, b = 0., 1.0, 1.0\n",
    "# h, s, v = 245/360, 1., 1.\n",
    "# print(colorsys.rgb_to_hsv(r, g, b))\n",
    "# print(hsv2rgb_int(h, s, v))\n",
    "# print(colorsys.hsv_to_rgb(h,s,v))"
   ]
  },
  {
   "cell_type": "code",
   "execution_count": null,
   "metadata": {
    "collapsed": false
   },
   "outputs": [],
   "source": [
    "th_plot = []  # these are the starting angles, NOT centers\n",
    "r_plot = []\n",
    "w_plot = []\n",
    "b_plot = []\n",
    "c_plot = []\n",
    "for ii, th_start in enumerate(theta_starts):\n",
    "    wedge = [th_start, 2*np.pi - (th_start + theta_width)]\n",
    "    color = cm.jet((np.abs(th_start) + theta_width/2)/np.pi)\n",
    "    h, s, v = colorsys.rgb_to_hsv(*color[:-1])\n",
    "    for jj, rlim in enumerate(radii):\n",
    "        th_plot.extend(wedge)\n",
    "        w_plot.extend([theta_width, theta_width])\n",
    "        r_plot.extend([np.diff(rlim)[0], np.diff(rlim)[0]])\n",
    "        b_plot.extend([rlim[0], rlim[0]])\n",
    "        \n",
    "        v = 1 - (jj / len(radii)) / 2\n",
    "        col = colorsys.hsv_to_rgb(h,s,v)\n",
    "        c_plot.extend([col, col])    \n",
    "#          ind_plot.append(\"A{:d}_E{:d}\".format(ii, jj))"
   ]
  },
  {
   "cell_type": "code",
   "execution_count": null,
   "metadata": {
    "collapsed": false
   },
   "outputs": [],
   "source": [
    "fig = plt.figure(figsize=(5,5))\n",
    "ax = plt.subplot(111, projection='polar')\n",
    "ax.set_theta_zero_location(\"N\")\n",
    "bars = ax.bar(th_plot, r_plot, width=w_plot, bottom=b_plot)\n",
    "for c, bar in zip(c_plot, bars):\n",
    "    bar.set_facecolor(c)\n",
    "#     bar.set_alpha(1. - (r - 1.2)/4.)"
   ]
  },
  {
   "cell_type": "markdown",
   "metadata": {},
   "source": [
    "Binary encoding of labels requires 9 bits. Let the first 6 bits determine the angle, the following 3 the eccentricity. __We do not need to encode the hemisphere, as each hemisphere has its own angle definition (counter-clockwise on left, clockwise on right).__\n",
    "\n",
    "__NB!__ Instead of \"proper\" bits, counting right-to-left, we will just assign left-to-right. The numbers will not be \"logical\", but the code will!"
   ]
  },
  {
   "cell_type": "code",
   "execution_count": null,
   "metadata": {
    "collapsed": false,
    "scrolled": true
   },
   "outputs": [],
   "source": [
    "#         print(\"{:d}: {:s} -> {:d}\".format(index + 1, bin_code,\n",
    "#                                           int(bin_code, 2)))\n"
   ]
  },
  {
   "cell_type": "markdown",
   "metadata": {},
   "source": [
    "To find the up bits, use this later:\n",
    "```python\n",
    "import re\n",
    "[m.start() for m in re.finditer('1', bin(1153)[2:])]\n",
    "```"
   ]
  },
  {
   "cell_type": "code",
   "execution_count": null,
   "metadata": {
    "collapsed": false
   },
   "outputs": [],
   "source": [
    "if not isfile('RMLUT.txt'):\n",
    "    create_LUT()"
   ]
  },
  {
   "cell_type": "code",
   "execution_count": null,
   "metadata": {
    "code_folding": [],
    "collapsed": false
   },
   "outputs": [],
   "source": [
    "bin_cmd = 'mri_binarize'\n",
    "bin_args = (\"--i {path:s}/{hemi:s}.benson.{map:s}.mgh \"\n",
    "            \"--min {min:.1f} --max {max:.1f} \"\n",
    "            \"--o {path:s}/tmp/{hemi:s}.{map:s}.tmp.nii\")\n",
    "calc_cmd = 'fscalc'\n",
    "calc_args = (\"{path:s}/tmp/{hemi:s}.{emap:s}.tmp.nii mul \"\n",
    "             \"{path:s}/tmp/{hemi:s}.{amap:s}.tmp.nii mul {mult:d} \"\n",
    "             \"--o {path:s}/tmp/{hemi:s}.RM{code:d}.tmp.nii\")"
   ]
  },
  {
   "cell_type": "code",
   "execution_count": null,
   "metadata": {
    "collapsed": false,
    "scrolled": true
   },
   "outputs": [],
   "source": [
    "VERBOSE = True\n",
    "FAKE = False\n",
    "for ii_code, bin_code in enumerate(code_map):\n",
    "    ups = [m.start() for m in re.finditer('1', bin_code)]\n",
    "\n",
    "    ecc_ind = ups[0]\n",
    "    ang_ind = ups[1] - len(radii)\n",
    "\n",
    "    for hemi in ['lh', 'rh']:\n",
    "        cur_args = bin_args.format(hemi=hemi, min=radii[ecc_ind][0],\n",
    "                                   max=radii[ecc_ind][1], map='eccen',\n",
    "                                   path=lab_path)\n",
    "        execute(bin_cmd + ' ' + cur_args, verbose=VERBOSE, fake=FAKE)\n",
    "\n",
    "        ang_min, ang_max = (np.abs(theta_starts_deg[ang_ind]),\n",
    "                            np.abs(theta_starts_deg[ang_ind]) + wedge_width)\n",
    "        cur_args = bin_args.format(hemi=hemi, min=ang_min,\n",
    "                                   max=ang_max, map='angle', path=lab_path)\n",
    "\n",
    "        execute(bin_cmd + ' ' + cur_args, verbose=VERBOSE, fake=FAKE)\n",
    "\n",
    "\n",
    "        cur_args = calc_args.format(hemi=hemi,\n",
    "                                    emap='eccen', amap='angle',\n",
    "                                    mult=ii_code + 1,\n",
    "                                    code=code_map[bin_code],\n",
    "                                    path=lab_path)\n",
    "        execute(calc_cmd + ' ' + cur_args, verbose=VERBOSE, fake=FAKE)\n"
   ]
  },
  {
   "cell_type": "code",
   "execution_count": null,
   "metadata": {
    "collapsed": false,
    "scrolled": true
   },
   "outputs": [],
   "source": [
    "VERBOSE = True\n",
    "FAKE = False\n",
    "masks = dict()\n",
    "masks['lh'] = glob.glob(join(subjects_dir, subject, 'label/tmp/lh.RM*'))\n",
    "masks['rh'] = glob.glob(join(subjects_dir, subject, 'label/tmp/rh.RM*'))\n",
    "makedirs(join(lab_path, 'RM'), exist_ok=True)\n",
    "\n",
    "for hemi in masks.keys():\n",
    "    calc_cmd = ['fscalc']\n",
    "    for mask_fname in masks[hemi]:\n",
    "        calc_cmd += [mask_fname, 'add']\n",
    "        \n",
    "    RM_out = join(subjects_dir, subject, 'label/{:s}.RM.nii'.format(hemi))\n",
    "    calc_cmd = (' '.join(calc_cmd[:-1]) + ' --o ' + RM_out)\n",
    "    \n",
    "    execute(calc_cmd, verbose=VERBOSE, fake=FAKE)\n",
    "\n",
    "    cmd = ('mris_seg2annot --seg {path:s}/{hemi:s}.RM.nii --ctab RMLUT.txt '\n",
    "           '--s {subject:s} --h {hemi:s} '\n",
    "           '--o {path:s}/{hemi:s}.RM.annot').format(path=lab_path, hemi=hemi,\n",
    "                                                    subject=subject)\n",
    "    execute(cmd, verbose=VERBOSE, fake=FAKE)\n",
    "\n",
    "    \n",
    "    # Make separate annots for each of V1, V2 and V3\n",
    "    for regno in range(1, 4):\n",
    "        cur_args = bin_args.format(hemi=hemi, min=regno - 0.1,\n",
    "                                   max=regno + 0.1, map='areas',\n",
    "                                   path=lab_path)\n",
    "        cur_args = '--abs ' + cur_args\n",
    "\n",
    "        execute(bin_cmd + ' ' + cur_args, verbose=VERBOSE, fake=FAKE)\n",
    "\n",
    "        areas_out = '{path:s}/tmp/{hemi:s}.areas.tmp.nii'.format(path=lab_path,\n",
    "                                                                 hemi=hemi)\n",
    "        cmd = ('fscalc {rm:s} mul {area:s} '\n",
    "               '--o {path:s}/{hemi:s}.RM.V{regno:d}.nii'\n",
    "               '').format(rm=RM_out, area=areas_out,\n",
    "                             path=lab_path, hemi=hemi, regno=regno)\n",
    "\n",
    "        execute(cmd, verbose=VERBOSE, fake=FAKE)\n",
    "\n",
    "\n",
    "        cmd = ('mris_seg2annot --seg {path:s}/{hemi:s}.RM.V{regno:d}.nii '\n",
    "               '--ctab RMLUT.txt --s {subject:s} --h {hemi:s} --o '\n",
    "               '{path:s}/{hemi:s}.RM.V{regno:d}.annot'\n",
    "               '').format(path=lab_path, hemi=hemi,\n",
    "                          subject=subject, regno=regno)\n",
    "        execute(cmd, verbose=VERBOSE, fake=FAKE)\n"
   ]
  },
  {
   "cell_type": "markdown",
   "metadata": {},
   "source": [
    "## Calculate patch areas"
   ]
  },
  {
   "cell_type": "code",
   "execution_count": null,
   "metadata": {
    "code_folding": [],
    "collapsed": false
   },
   "outputs": [],
   "source": [
    "cmd = 'mris_anatomical_stats'\n",
    "args = (\" -a {path:s}/{hemi:s}.RM.{reg:s}.annot \"\n",
    "        \"{subj:s} {hemi:s} > tmp.out\")"
   ]
  },
  {
   "cell_type": "code",
   "execution_count": null,
   "metadata": {
    "collapsed": false
   },
   "outputs": [],
   "source": [
    "VERBOSE = True\n",
    "FAKE = False\n",
    "areas = dict()\n",
    "for reg in ['V1', 'V2', 'V3']:\n",
    "    areas[reg] = dict()\n",
    "    for hemi in ['lh', 'rh']:\n",
    "        areas[reg][hemi] = dict()\n",
    "        cur_args = args.format(path=lab_path, hemi=hemi, reg=reg, subj=subject)\n",
    "        \n",
    "        execute(cmd + cur_args, verbose=VERBOSE, fake=FAKE)\n",
    "        \n",
    "        with open('tmp.out', 'rt') as fp:\n",
    "            for line in fp:\n",
    "                if \"structure is\" in line:\n",
    "                    lab = line.split(\"\\\"\")[1]\n",
    "                if \"total surface area\" in line:\n",
    "                    area = line.split('=')[1].split(' ')[1]  # mm^2\n",
    "                    areas[reg][hemi][lab] = area"
   ]
  },
  {
   "cell_type": "code",
   "execution_count": null,
   "metadata": {
    "collapsed": false
   },
   "outputs": [],
   "source": [
    "# for posterity\n",
    "with open('area_stats.json', 'wt') as fp:\n",
    "    json.dump(areas, fp)"
   ]
  }
 ],
 "metadata": {
  "anaconda-cloud": {},
  "hide_input": false,
  "kernelspec": {
   "display_name": "Python [conda env:oldqt]",
   "language": "python",
   "name": "conda-env-oldqt-py"
  },
  "language_info": {
   "codemirror_mode": {
    "name": "ipython",
    "version": 3
   },
   "file_extension": ".py",
   "mimetype": "text/x-python",
   "name": "python",
   "nbconvert_exporter": "python",
   "pygments_lexer": "ipython3",
   "version": "3.5.2"
  }
 },
 "nbformat": 4,
 "nbformat_minor": 1
}
