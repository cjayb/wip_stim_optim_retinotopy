{
 "cells": [
  {
   "cell_type": "markdown",
   "metadata": {},
   "source": [
    "# Make manual V1, V2 and V3 waveforms\n",
    "\n",
    "1. Iterate on V1 waveform until happy\n",
    "    * re-run `ld_V1` overwrites self each time\n",
    "1. Give `ld_V1` as argument to `ld_V2.draw_line`\n",
    "    * see in relation to each other\n",
    "1. Give V1 and V2 to V3\n",
    "\n",
    "_Hint:_ stabilise baseline by making a couple of points close to the first kink."
   ]
  },
  {
   "cell_type": "code",
   "execution_count": 1,
   "metadata": {
    "collapsed": true
   },
   "outputs": [],
   "source": [
    "%matplotlib qt"
   ]
  },
  {
   "cell_type": "code",
   "execution_count": 3,
   "metadata": {
    "collapsed": false
   },
   "outputs": [],
   "source": [
    "import numpy as np\n",
    "import matplotlib.pyplot as plt\n",
    "from scipy.interpolate import UnivariateSpline\n",
    "from scipy.misc import imread"
   ]
  },
  {
   "cell_type": "markdown",
   "metadata": {},
   "source": [
    "Take an image as background. This one is from [@Hagler:2014jd]."
   ]
  },
  {
   "cell_type": "code",
   "execution_count": 71,
   "metadata": {
    "collapsed": true
   },
   "outputs": [],
   "source": [
    "imname = 'Hagler2014-Fig8D-cropped.tiff'\n",
    "img = imread(imname)\n",
    "fs = 250.  # Hz"
   ]
  },
  {
   "cell_type": "code",
   "execution_count": 27,
   "metadata": {
    "collapsed": false
   },
   "outputs": [],
   "source": [
    "class LineDrawer(object):\n",
    "    def __init__(self, fnum=100, fs=250.,\n",
    "                 tmin=-0.100, tmax=0.350, color='dodgerblue',\n",
    "                 bck_img=None):\n",
    "        self.f_interp = None\n",
    "        \n",
    "        self.color = color\n",
    "        self.bck_img = bck_img\n",
    "        self.time = np.arange(tmin, tmax, 1./fs)\n",
    "        self.fig, self.ax = plt.subplots(1, 1, num=fnum)\n",
    "        self.plot_handle = self.ax.plot([self.time[0],\n",
    "                                         self.time[-1]],\n",
    "                                        [0, 0])\n",
    "        self.ax.set_ylim([-1, 1])\n",
    "        self.ax.grid(True)\n",
    "\n",
    "        if self.bck_img is not None:\n",
    "            self.ax.imshow(self.bck_img, zorder=0,\n",
    "                           extent=[-0.1, 0.35,\n",
    "                                   -1., 1.], aspect='auto')\n",
    "    @property\n",
    "    def amplitude(self):\n",
    "        return(self.f_interp(self.time))\n",
    "    \n",
    "    def plot_line(self, x, y, color='k', linewidth=2.0):\n",
    "        self.ax.plot(x, y, color=color, linewidth=linewidth)\n",
    "        self.ax.figure.canvas.draw()\n",
    "        \n",
    "    def draw_line(self, V1=None, V2=None, V3=None):\n",
    "        \n",
    "        if V1 is not None:\n",
    "            self.plot_line(V1.time, V1.amplitude,\n",
    "                           color=V1.color, linewidth=3.0)\n",
    "        if V2 is not None:\n",
    "            self.plot_line(V2.time, V2.amplitude,\n",
    "                           color=V2.color, linewidth=3.0)\n",
    "\n",
    "        if V3 is not None:\n",
    "            self.plot_line(V3.time, V3.amplitude,\n",
    "                           color=V3.color, linewidth=3.0)\n",
    "        \n",
    "        xy = self.fig.ginput(n=-1, timeout=300.)\n",
    "#         xy.insert(0, (self.time[0], 0.))\n",
    "#         xy.insert(1, (self.time[0] / 2., 0.))\n",
    "#         xy.insert(2, (0., 0.))\n",
    "#         xy.append((self.time[-1], 0.))\n",
    "\n",
    "        x = [p[0] for p in xy]\n",
    "        y = [p[1] for p in xy]\n",
    "\n",
    "        self.xy = [x, y]\n",
    "        \n",
    "        self.f_interp = UnivariateSpline(x, y, s=0)\n",
    "\n",
    "        self.plot_line(self.time, self.amplitude,\n",
    "                       color=self.color, linewidth=3.0)\n",
    "        \n"
   ]
  },
  {
   "cell_type": "code",
   "execution_count": 28,
   "metadata": {
    "collapsed": false
   },
   "outputs": [],
   "source": [
    "#plt.plot([1,2,3,4,5])\n",
    "ld_V1 = LineDrawer(fnum=1, color='dodgerblue', bck_img=img)"
   ]
  },
  {
   "cell_type": "code",
   "execution_count": 29,
   "metadata": {
    "collapsed": false
   },
   "outputs": [
    {
     "name": "stderr",
     "output_type": "stream",
     "text": [
      "/Users/cjb/miniconda_envs/oldqt/lib/python3.5/site-packages/matplotlib/backend_bases.py:2437: MatplotlibDeprecationWarning: Using default event loop until function specific to this GUI is implemented\n",
      "  warnings.warn(str, mplDeprecation)\n"
     ]
    }
   ],
   "source": [
    "ld_V1.draw_line() # here you click on the plot"
   ]
  },
  {
   "cell_type": "code",
   "execution_count": 39,
   "metadata": {
    "collapsed": false
   },
   "outputs": [],
   "source": [
    "ld_V2 = LineDrawer(fnum=2, color='lime', bck_img=img)"
   ]
  },
  {
   "cell_type": "code",
   "execution_count": 40,
   "metadata": {
    "collapsed": false
   },
   "outputs": [
    {
     "name": "stderr",
     "output_type": "stream",
     "text": [
      "/Users/cjb/miniconda_envs/oldqt/lib/python3.5/site-packages/matplotlib/backend_bases.py:2437: MatplotlibDeprecationWarning: Using default event loop until function specific to this GUI is implemented\n",
      "  warnings.warn(str, mplDeprecation)\n"
     ]
    }
   ],
   "source": [
    "ld_V2.draw_line(V1=ld_V1)"
   ]
  },
  {
   "cell_type": "code",
   "execution_count": 37,
   "metadata": {
    "collapsed": false
   },
   "outputs": [],
   "source": [
    "ld_V3 = LineDrawer(fnum=3, color='crimson', bck_img=img)"
   ]
  },
  {
   "cell_type": "code",
   "execution_count": 38,
   "metadata": {
    "collapsed": false
   },
   "outputs": [
    {
     "name": "stderr",
     "output_type": "stream",
     "text": [
      "/Users/cjb/miniconda_envs/oldqt/lib/python3.5/site-packages/matplotlib/backend_bases.py:2437: MatplotlibDeprecationWarning: Using default event loop until function specific to this GUI is implemented\n",
      "  warnings.warn(str, mplDeprecation)\n"
     ]
    }
   ],
   "source": [
    "ld_V3.draw_line(V1=ld_V1, V2=ld_V2)"
   ]
  },
  {
   "cell_type": "markdown",
   "metadata": {},
   "source": [
    "## Save numpy array"
   ]
  },
  {
   "cell_type": "code",
   "execution_count": 59,
   "metadata": {
    "collapsed": true
   },
   "outputs": [],
   "source": [
    "waveforms = np.empty((len(ld_V1.time), 4))\n",
    "waveforms[:, 0] = ld_V1.time\n",
    "waveforms[:, 1] = ld_V1.amplitude\n",
    "waveforms[:, 2] = ld_V2.amplitude\n",
    "waveforms[:, 3] = ld_V3.amplitude"
   ]
  },
  {
   "cell_type": "markdown",
   "metadata": {},
   "source": [
    "Find baseline samples, mean over time, then mean over 3 regions"
   ]
  },
  {
   "cell_type": "code",
   "execution_count": 60,
   "metadata": {
    "collapsed": false
   },
   "outputs": [],
   "source": [
    "bl = np.mean(np.mean(waveforms[waveforms[:, 0] < 0., :], axis=0)[1:])\n",
    "waveforms[:, 1:] -= bl"
   ]
  },
  {
   "cell_type": "markdown",
   "metadata": {},
   "source": [
    "Scale V1 to value given in Table 1 (95% contrast)"
   ]
  },
  {
   "cell_type": "code",
   "execution_count": 61,
   "metadata": {
    "collapsed": true
   },
   "outputs": [],
   "source": [
    "peak = np.max(np.abs(waveforms[:, 1:]))\n",
    "waveforms[:, 1:] *= 15.9 / peak"
   ]
  },
  {
   "cell_type": "code",
   "execution_count": 68,
   "metadata": {
    "collapsed": false
   },
   "outputs": [],
   "source": [
    "# fig, ax = plt.subplots(1,1)\n",
    "# ax.plot(waveforms[:, 0], waveforms[:, 1:])"
   ]
  },
  {
   "cell_type": "code",
   "execution_count": 72,
   "metadata": {
    "collapsed": false
   },
   "outputs": [],
   "source": [
    "np.save(imname.split('.')[0] + '.npy', waveforms)"
   ]
  }
 ],
 "metadata": {
  "kernelspec": {
   "display_name": "Python [conda env:oldqt]",
   "language": "python",
   "name": "conda-env-oldqt-py"
  },
  "language_info": {
   "codemirror_mode": {
    "name": "ipython",
    "version": 3
   },
   "file_extension": ".py",
   "mimetype": "text/x-python",
   "name": "python",
   "nbconvert_exporter": "python",
   "pygments_lexer": "ipython3",
   "version": "3.5.2"
  }
 },
 "nbformat": 4,
 "nbformat_minor": 1
}
