{
 "cells": [
  {
   "cell_type": "code",
   "execution_count": null,
   "metadata": {
    "collapsed": true
   },
   "outputs": [],
   "source": [
    "# %matplotlib qt\n",
    "# plot_size = 5\n",
    "%matplotlib notebook\n",
    "plot_size = 3\n",
    "fig_basenum = 30"
   ]
  },
  {
   "cell_type": "code",
   "execution_count": null,
   "metadata": {
    "collapsed": false
   },
   "outputs": [],
   "source": [
    "from retinotopic_helpers import *\n",
    "import matplotlib.pyplot as plt\n",
    "from functools import reduce\n",
    "from operator import add\n",
    "from mne.io import read_raw_fif"
   ]
  },
  {
   "cell_type": "code",
   "execution_count": null,
   "metadata": {
    "collapsed": true
   },
   "outputs": [],
   "source": [
    "from mne_viz_circle import plot_connectivity_circle"
   ]
  },
  {
   "cell_type": "code",
   "execution_count": null,
   "metadata": {
    "collapsed": false
   },
   "outputs": [],
   "source": [
    "ch_type = 'meg'  # may make little sense, since scale of 'grad' dominates!\n",
    "# ch_type = 'grad'\n",
    "# ch_type = 'mag'\n",
    "\n",
    "regions = ['V1', 'V2', 'V3']"
   ]
  },
  {
   "cell_type": "code",
   "execution_count": null,
   "metadata": {
    "collapsed": false
   },
   "outputs": [],
   "source": [
    "data_path = '/Users/cjb/projects/CFF_Retinotopy/scratch'\n",
    "subject = '030_WAH'\n",
    "subjects_dir = join(data_path, 'fs_subjects_dir')\n",
    "fname_fwd = join(data_path, 'restricted_1LBEM-fwd.fif')\n",
    "fname_raw = join(data_path, 'VS1_cropped1sec.fif')\n",
    "info = read_raw_fif(fname_raw, preload=False).info"
   ]
  },
  {
   "cell_type": "code",
   "execution_count": null,
   "metadata": {
    "collapsed": false
   },
   "outputs": [],
   "source": [
    "if ch_type == 'meg':  # re-scale mags\n",
    "    coil_scale, mag_scale = get_mag_scaling_factor(info)"
   ]
  },
  {
   "cell_type": "markdown",
   "metadata": {},
   "source": [
    "## TODO: where to use mag scaling?"
   ]
  },
  {
   "cell_type": "code",
   "execution_count": null,
   "metadata": {
    "collapsed": false,
    "scrolled": true
   },
   "outputs": [],
   "source": [
    "fwd = read_forward_solution(fname_fwd)"
   ]
  },
  {
   "cell_type": "code",
   "execution_count": null,
   "metadata": {
    "collapsed": false
   },
   "outputs": [],
   "source": [
    "# change to surface coords\n",
    "fwd = prepare_gain(fwd, ch_type=ch_type)"
   ]
  },
  {
   "cell_type": "code",
   "execution_count": null,
   "metadata": {
    "collapsed": false
   },
   "outputs": [],
   "source": [
    "# get all RM-labels\n",
    "labels = get_RM_labels(subject, subjects_dir=subjects_dir)"
   ]
  },
  {
   "cell_type": "code",
   "execution_count": null,
   "metadata": {
    "collapsed": false
   },
   "outputs": [],
   "source": [
    "# DEBUG\n",
    "# ii = 10\n",
    "# lablist = [labels['V1']['lh'][ii], labels['V1']['rh'][ii],\n",
    "#            labels['V1']['lh'][ii] + labels['V1']['rh'][ii]]\n",
    "\n",
    "# patch_sensitivity(fwd, lablist)"
   ]
  },
  {
   "cell_type": "markdown",
   "metadata": {},
   "source": [
    "## Plot some"
   ]
  },
  {
   "cell_type": "code",
   "execution_count": null,
   "metadata": {
    "collapsed": false
   },
   "outputs": [],
   "source": [
    "regions = labels.keys()\n",
    "alllabs = []\n",
    "for reg in regions:\n",
    "    for hemi in ['lh', 'rh']:\n",
    "        alllabs.extend(labels[reg][hemi])"
   ]
  },
  {
   "cell_type": "code",
   "execution_count": null,
   "metadata": {
    "collapsed": false
   },
   "outputs": [],
   "source": [
    "# For normalization!\n",
    "# takes a few secs, but hard to do without?\n",
    "all_patch_sens = patch_sensitivity(fwd, alllabs)"
   ]
  },
  {
   "cell_type": "code",
   "execution_count": null,
   "metadata": {
    "collapsed": false
   },
   "outputs": [],
   "source": [
    "# Each region separately\n",
    "plot_vals = ['mean_sens', 'ci', 'w_sens', 'tot_sens']\n",
    "plot_cms  = [cm.hot, cm.bone_r, cm.inferno, cm.inferno]\n",
    "\n",
    "fig = plt.figure(num=fig_basenum + 1,\n",
    "                 figsize = (len(regions) * plot_size,\n",
    "                            len(plot_vals) * plot_size))\n",
    "fig.clear()\n",
    "for irow, (pval, pcm) in enumerate(zip(plot_vals, plot_cms)):\n",
    "    maxvals = []\n",
    "    for icol, reg in enumerate(regions):\n",
    "\n",
    "        polax_bardata_reset()\n",
    "\n",
    "        ax = plt.subplot(len(plot_vals), len(labels.keys()),\n",
    "                         irow * len(labels.keys()) + icol + 1,\n",
    "                         projection='polar')\n",
    "\n",
    "        for hemi_bit, hemi in enumerate(('lh', 'rh')):\n",
    "            patch_sens = patch_sensitivity(fwd, labels[reg][hemi])\n",
    "            for il, lab in enumerate(labels[reg][hemi]):\n",
    "                if 'None' in lab.name:\n",
    "                    continue\n",
    "                ecc_ind, ang_ind = get_ecc_ang_inds(lab.name)\n",
    "\n",
    "                polax_bardata_append(hemi_bit, ecc_ind, ang_ind,\n",
    "                                     patch_sens[pval][il])\n",
    "                \n",
    "        maxval = np.max(all_patch_sens[pval]) if not pval == 'ci' else 1\n",
    "        polax_bardata_setcols(ax, cmap=pcm, normalizer=maxval)\n",
    "        ax.set_title('{reg:s} - {val:s}'.format(reg=reg, val=pval))"
   ]
  },
  {
   "cell_type": "code",
   "execution_count": null,
   "metadata": {
    "collapsed": false
   },
   "outputs": [],
   "source": [
    "# from mpl_toolkits.axes_grid1 import make_axes_locatable\n",
    "# sm = plt.cm.ScalarMappable(cmap=pcm, norm=plt.Normalize(vmin=0, vmax=1))\n",
    "# # fake up the array of the scalar mappable. Urgh...\n",
    "# sm._A = []\n",
    "# divider = make_axes_locatable(ax)\n",
    "# cax = divider.append_axes(\"right\", size=\"5%\", pad=0.05)\n",
    "# plt.colorbar(sm, cax=cax)"
   ]
  },
  {
   "cell_type": "code",
   "execution_count": null,
   "metadata": {
    "collapsed": false
   },
   "outputs": [],
   "source": [
    "# Combine V1, V2 and V3\n",
    "plot_vals = ['mean_sens', 'ci', 'w_sens', 'tot_sens']\n",
    "plot_cms  = [cm.hot, cm.bone_r, cm.inferno, cm.inferno]\n",
    "\n",
    "regions = labels.keys()\n",
    "\n",
    "fig = plt.figure(num=fig_basenum + 2,\n",
    "                 figsize = (plot_size, len(plot_vals) * plot_size))\n",
    "fig.clear()\n",
    "for irow, (pval, pcm) in enumerate(zip(plot_vals, plot_cms)):\n",
    "    for hemi_bit, hemi in enumerate(('lh', 'rh')):\n",
    "        \n",
    "        # list of length 3, each element being a list of all locations\n",
    "        reglabs = [labels[r][hemi] for r in regions]\n",
    "        # list of lists of length 3: V1, V2 and V3 for each location\n",
    "        lablist = [[reglabs[jj][ii] for jj in range(len(reglabs))] \n",
    "                   for ii in range(len(reglabs[0]))]\n",
    "        \n",
    "        ax = plt.subplot(len(plot_vals), 1,\n",
    "                         irow + 1,\n",
    "                         projection='polar')\n",
    "\n",
    "        for il, reglab in enumerate(lablist):\n",
    "            \n",
    "            # reduce the list of V1, V2 and V3 labels in the current\n",
    "            # region to a single list by addition of indiv. labels\n",
    "            lab = reduce(add, reglab)\n",
    "            patch_sens = patch_sensitivity(fwd, lab)\n",
    "\n",
    "            ecc_ind, ang_ind = get_ecc_ang_inds(lab.name)\n",
    "\n",
    "            polax_bardata_append(hemi_bit, ecc_ind, ang_ind,\n",
    "                                 patch_sens[pval][0])\n",
    "\n",
    "        maxval = np.max(all_patch_sens[pval]) if not pval == 'ci' else 1\n",
    "        polax_bardata_setcols(ax, cmap=pcm, normalizer=maxval)\n",
    "        ax.set_title('{reg:s} - {val:s}'.format(reg='V1+V2+V3', val=pval))"
   ]
  },
  {
   "cell_type": "markdown",
   "metadata": {},
   "source": [
    "## Total cross-cancellation between retinotopic locations\n",
    "\n",
    "How much does the combined response of V1, V2 and V3 at one stimulus location (_e.g._, SSVEP/Fs) interact with that coming from a different location?"
   ]
  },
  {
   "cell_type": "code",
   "execution_count": null,
   "metadata": {
    "collapsed": false
   },
   "outputs": [],
   "source": [
    "regions = ['V1', 'V2', 'V3']\n",
    "regions = ['V1']\n",
    "regions = ['V1', 'V2']\n",
    "\n",
    "reglabs = []\n",
    "for hemi in ('lh', 'rh'):\n",
    "    # 2D list, n_row = n_regions, n_cols=n_locations\n",
    "    these_labels = [labels[r][hemi] for r in regions]\n",
    "    # list transpose!\n",
    "    # n_row=n_locations, n_col=n_regions\n",
    "    reglabs.extend([list(i) for i in zip(*these_labels)])\n",
    "\n",
    "# if more than one regions, calculate their sum\n",
    "for ri, rlabs in enumerate(reglabs):\n",
    "    if len(rlabs) == 1:\n",
    "        reglabs[ri] = rlabs[0]\n",
    "    else:\n",
    "        reglabs[ri] = reduce(add, rlabs)   "
   ]
  },
  {
   "cell_type": "code",
   "execution_count": null,
   "metadata": {
    "collapsed": false
   },
   "outputs": [],
   "source": [
    "# cross-cancellation \n",
    "plot_vals = ['w_sens', 'tot_sens']\n",
    "plot_cms  = [cm.inferno, cm.inferno]\n",
    "\n",
    "sens_measure = 'tot_sens'\n",
    "\n",
    "n_hemi = len(radii) * len(theta_starts_deg)\n",
    "D = np.empty((2 * n_hemi, 2 * n_hemi), dtype=np.float)\n",
    "D.fill(np.nan)\n",
    "\n",
    "DcosT = np.empty((2 * n_hemi, 2 * n_hemi), dtype=np.float)\n",
    "DcosT.fill(np.nan)\n",
    "\n",
    "self_sens = np.empty(2 * n_hemi)\n",
    "\n",
    "node_angles = np.empty(2 * n_hemi)\n",
    "node_radii = np.empty(2 * n_hemi)\n",
    "node_heights = np.empty(2 * n_hemi)\n",
    "# Need to prepare an empty list to order maintained!\n",
    "label_names = ['' for _ in range(2 * n_hemi)]\n",
    "\n",
    "# for icol, (pval, pcm) in enumerate(zip(plot_vals, plot_cms)):\n",
    "for i_reg, reflab in enumerate(reglabs):\n",
    "    ref_sens = patch_sensitivity(fwd, reflab)\n",
    "    r_ecc_ind, r_ang_ind = get_ecc_ang_inds(reflab.name)\n",
    "    ref_hidx = 0 if reflab.hemi == 'lh' else 1\n",
    "\n",
    "    if ref_hidx == 0:\n",
    "        circ_na = 90 + theta_starts_deg[r_ang_ind] + \\\n",
    "                    (r_ecc_ind + 1) * wedge_width / (len(radii) + 1)\n",
    "    else:\n",
    "        circ_na = 90 + 360 - (theta_starts_deg[r_ang_ind] + \\\n",
    "                    (r_ecc_ind  + 1) * wedge_width / (len(radii) + 1))\n",
    "\n",
    "#     print('{}: ecc {}, ang {}'.format(i_reg, r_ecc_ind, r_ang_ind))\n",
    "    \n",
    "    ridx = ref_hidx * n_hemi + len(radii)*r_ang_ind + r_ecc_ind\n",
    "\n",
    "    node_angles[ridx] = circ_na\n",
    "    node_heights[ridx] = r_ecc_ind + 1\n",
    "    node_radii[ridx] = 10. + r_ecc_ind\n",
    "    label_names[ridx] = reflab.name\n",
    "    self_sens[ridx] = ref_sens[sens_measure][0]\n",
    "\n",
    "    for trglab in reglabs[i_reg + 1:]:  # won't run for last reflab\n",
    "        trg_sens = patch_sensitivity(fwd, trglab)\n",
    "        ecc_ind, ang_ind = get_ecc_ang_inds(trglab.name)\n",
    "        cmb_sens = patch_sensitivity(fwd, reflab + trglab)\n",
    "\n",
    "        trg_hidx = 0 if trglab.hemi == 'lh' else 1\n",
    "\n",
    "        cidx = trg_hidx * n_hemi + len(radii)*ang_ind + ecc_ind\n",
    "\n",
    "        D[ridx, cidx] = cmb_sens[sens_measure] / \\\n",
    "            (ref_sens[sens_measure] + trg_sens[sens_measure])\n",
    "        D[cidx, ridx] = D[ridx, cidx]\n",
    "        \n",
    "        DcosT[ridx, cidx] = np.dot(ref_sens['sigvec'][:, 0],\n",
    "                                   trg_sens['sigvec'][:, 0]) / \\\n",
    "            (ref_sens['tot_sens'] * trg_sens['tot_sens'])\n",
    "        DcosT[cidx, ridx] = DcosT[ridx, cidx]"
   ]
  },
  {
   "cell_type": "code",
   "execution_count": null,
   "metadata": {
    "collapsed": false
   },
   "outputs": [],
   "source": [
    "import seaborn as sns"
   ]
  },
  {
   "cell_type": "code",
   "execution_count": null,
   "metadata": {
    "collapsed": false
   },
   "outputs": [],
   "source": [
    "fig = plt.figure(num=fig_basenum + 20, figsize=(2 * plot_size, 2 * plot_size))\n",
    "fig.clear()\n",
    "ax = plt.subplot(111)\n",
    "sns.distplot(DcosT[~np.isnan(DcosT)], ax=ax)"
   ]
  },
  {
   "cell_type": "code",
   "execution_count": null,
   "metadata": {
    "collapsed": false
   },
   "outputs": [],
   "source": [
    "fig = plt.figure(num=fig_basenum + 3, figsize=(3 * plot_size, 1.5 * plot_size))\n",
    "fig.clear()\n",
    "\n",
    "ax = plt.subplot(121)\n",
    "cmap = sns.cubehelix_palette(8, as_cmap=True)\n",
    "# cmap.set_bad('black', 1.)\n",
    "cmap.set_bad('white', 1.)\n",
    "\n",
    "vmin, vmax = np.nanmin(1/D), np.nanmax(1/D)\n",
    "# Draw the heatmap with the mask and correct aspect ratio\n",
    "sns.heatmap(1/D, cmap=cmap, vmin=vmin, vmax=vmax,\n",
    "            square=True, xticklabels=5, yticklabels=5,\n",
    "            linewidths=.5, cbar_kws={\"shrink\": .5}, ax=ax)\n",
    "\n",
    "ax = plt.subplot(122)\n",
    "cmap_cosT = sns.diverging_palette(220, 10, sep=80, n=8, as_cmap=True)\n",
    "cmap_cosT.set_bad('white', 1.)\n",
    "\n",
    "vmin, vmax = np.nanmin(DcosT), np.nanmax(DcosT)\n",
    "# Draw the heatmap with the mask and correct aspect ratio\n",
    "sns.heatmap(DcosT, cmap=cmap_cosT, vmin=vmin, vmax=vmax,\n",
    "            square=True, xticklabels=5, yticklabels=5,\n",
    "            linewidths=.5, cbar_kws={\"shrink\": .5}, ax=ax)"
   ]
  },
  {
   "cell_type": "code",
   "execution_count": null,
   "metadata": {
    "collapsed": false
   },
   "outputs": [],
   "source": [
    "# For development / debugging\n",
    "# import mne_viz_circle\n",
    "# import importlib\n",
    "# importlib.reload(mne_viz_circle)\n",
    "# plot_connectivity_circle = mne_viz_circle.plot_connectivity_circle"
   ]
  },
  {
   "cell_type": "code",
   "execution_count": null,
   "metadata": {
    "collapsed": false
   },
   "outputs": [],
   "source": [
    "fig = plt.figure(num=fig_basenum + 4, figsize=(3 * plot_size, 3 * plot_size))\n",
    "fig.clear()\n",
    "\n",
    "node_colors = list()\n",
    "normalizer = np.max(self_sens)\n",
    "for ss in self_sens:\n",
    "    node_colors.append(polax_get_colour(ss, cmap=cm.inferno,\n",
    "                                        normalizer=normalizer))\n",
    "# node_heights = None  # can't get this \"right\"\n",
    "plot_connectivity_circle(1/D, label_names, n_lines=10, node_radii=node_radii,\n",
    "                         node_angles=node_angles, node_heights=node_heights,\n",
    "                         title='Cross-cancellation', fig=fig,\n",
    "                         facecolor='white', textcolor='black',\n",
    "                         colormap=cm.inferno_r, node_linewidth=1.0,\n",
    "                         linewidth=4., node_colors=node_colors)"
   ]
  },
  {
   "cell_type": "code",
   "execution_count": null,
   "metadata": {
    "collapsed": false
   },
   "outputs": [],
   "source": [
    "fig = plt.figure(num=fig_basenum + 5, figsize=(3 * plot_size, 3 * plot_size))\n",
    "fig.clear()\n",
    "\n",
    "node_colors = list()\n",
    "normalizer = np.max(self_sens)\n",
    "for ss in self_sens:\n",
    "    node_colors.append(polax_get_colour(ss, cmap=cm.inferno,\n",
    "                                        normalizer=normalizer))\n",
    "# node_heights = None  # can't get this \"right\"\n",
    "plot_connectivity_circle(DcosT, label_names, n_lines=10, node_radii=node_radii,\n",
    "                         node_angles=node_angles, node_heights=node_heights,\n",
    "                         title='Cross-cancellation', fig=fig,\n",
    "                         facecolor='white', textcolor='black',\n",
    "                         colormap=cmap_cosT, node_linewidth=1.0,\n",
    "                         linewidth=4., node_colors=node_colors)"
   ]
  },
  {
   "cell_type": "code",
   "execution_count": null,
   "metadata": {
    "collapsed": false
   },
   "outputs": [],
   "source": [
    "fwd_fixed = convert_forward_solution(fwd, force_fixed=True, copy=True)"
   ]
  },
  {
   "cell_type": "code",
   "execution_count": null,
   "metadata": {
    "collapsed": false
   },
   "outputs": [],
   "source": [
    "# For development / debugging\n",
    "# import retinotopic_helpers\n",
    "# import importlib\n",
    "# importlib.reload(retinotopic_helpers)\n",
    "# _stc_from_labels = retinotopic_helpers._stc_from_labels\n",
    "# plot_stc_topomap = retinotopic_helpers.plot_stc_topomap\n",
    "# plot_region_interaction_topomap = retinotopic_helpers.plot_region_interaction_topomap\n",
    "# get_2D_connectivity_matrix_value = retinotopic_helpers.get_2D_connectivity_matrix_value"
   ]
  },
  {
   "cell_type": "code",
   "execution_count": null,
   "metadata": {
    "collapsed": false
   },
   "outputs": [],
   "source": [
    "fig = plt.figure(num=fig_basenum + 6, figsize=(3 * plot_size, 1 * plot_size))\n",
    "fig.clear()\n",
    "\n",
    "l_one = find_labels_in_list(labels['V1']['lh'], '144')[0]\n",
    "l_two = find_labels_in_list(labels['V1']['rh'], '160')[0]\n",
    "\n",
    "plot_region_interaction_topomap([l_one, l_two],\n",
    "                                fwd_fixed, info, fig=fig)\n",
    "\n",
    "canc = get_2D_connectivity_matrix_value(1/D, l_one, l_two)\n",
    "cosT = get_2D_connectivity_matrix_value(DcosT, l_one, l_two)\n",
    "print('Cancellation:\\t{}\\nTheta (deg):\\t{}'.format(canc,\n",
    "                                                   180 / np.pi * np.arccos(cosT)))"
   ]
  },
  {
   "cell_type": "code",
   "execution_count": null,
   "metadata": {
    "collapsed": false
   },
   "outputs": [],
   "source": [
    "fig = plt.figure(num=fig_basenum + 7, figsize=(3 * plot_size, 1 * plot_size))\n",
    "fig.clear()\n",
    "\n",
    "l_one = find_labels_in_list(labels['V1']['lh'], '136')[0]\n",
    "l_two = find_labels_in_list(labels['V1']['lh'], '260')[0]\n",
    "\n",
    "plot_region_interaction_topomap([l_one, l_two],\n",
    "                                fwd_fixed, info, fig=fig)\n",
    "canc = get_2D_connectivity_matrix_value(1/D, l_one, l_two)\n",
    "cosT = get_2D_connectivity_matrix_value(DcosT, l_one, l_two)\n",
    "print('Cancellation:\\t{}\\nTheta (deg):\\t{}'.format(canc,\n",
    "                                                   180 / np.pi * np.arccos(cosT)))"
   ]
  },
  {
   "cell_type": "code",
   "execution_count": null,
   "metadata": {
    "collapsed": false,
    "scrolled": false
   },
   "outputs": [],
   "source": [
    "fig = plt.figure(num=fig_basenum + 8, figsize=(3 * plot_size, 1 * plot_size))\n",
    "fig.clear()\n",
    "\n",
    "l_one = find_labels_in_list(labels['V1']['lh'], '66')[0]\n",
    "l_two = find_labels_in_list(labels['V1']['rh'], '80')[0]\n",
    "\n",
    "plot_region_interaction_topomap([l_one, l_two],\n",
    "                                fwd_fixed, info, fig=fig)\n",
    "canc = get_2D_connectivity_matrix_value(1/D, l_one, l_two)\n",
    "cosT = get_2D_connectivity_matrix_value(DcosT, l_one, l_two)\n",
    "print('Cancellation:\\t{}\\nTheta (deg):\\t{}'.format(canc,\n",
    "                                                   180 / np.pi * np.arccos(cosT)))"
   ]
  },
  {
   "cell_type": "code",
   "execution_count": null,
   "metadata": {
    "collapsed": false,
    "scrolled": false
   },
   "outputs": [],
   "source": [
    "fig = plt.figure(num=fig_basenum + 9, figsize=(3 * plot_size, 1 * plot_size))\n",
    "fig.clear()\n",
    "\n",
    "l_one = find_labels_in_list(labels['V1']['lh'], '129')[0]\n",
    "l_two = find_labels_in_list(labels['V1']['lh'], '130')[0]\n",
    "\n",
    "plot_region_interaction_topomap([l_one, l_two],\n",
    "                                fwd_fixed, info, fig=fig)\n",
    "canc = get_2D_connectivity_matrix_value(1/D, l_one, l_two)\n",
    "cosT = get_2D_connectivity_matrix_value(DcosT, l_one, l_two)\n",
    "print('Cancellation:\\t{}\\nTheta (deg):\\t{}'.format(canc,\n",
    "                                                   180 / np.pi * np.arccos(cosT)))"
   ]
  },
  {
   "cell_type": "code",
   "execution_count": null,
   "metadata": {
    "collapsed": false,
    "scrolled": false
   },
   "outputs": [],
   "source": [
    "fig = plt.figure(num=fig_basenum + 10, figsize=(3 * plot_size, 1 * plot_size))\n",
    "fig.clear()\n",
    "\n",
    "l_one = find_labels_in_list(labels['V1']['rh'], '129')[0]\n",
    "l_two = find_labels_in_list(labels['V1']['rh'], '130')[0]\n",
    "\n",
    "plot_region_interaction_topomap([l_one, l_two],\n",
    "                                fwd_fixed, info, fig=fig)\n",
    "canc = get_2D_connectivity_matrix_value(1/D, l_one, l_two)\n",
    "cosT = get_2D_connectivity_matrix_value(DcosT, l_one, l_two)\n",
    "print('Cancellation:\\t{}\\nTheta (deg):\\t{}'.format(canc,\n",
    "                                                   180 / np.pi * np.arccos(cosT)))"
   ]
  },
  {
   "cell_type": "code",
   "execution_count": null,
   "metadata": {
    "collapsed": false
   },
   "outputs": [],
   "source": [
    "labels['V1']['lh']"
   ]
  }
 ],
 "metadata": {
  "kernelspec": {
   "display_name": "Python [conda env:oldqt]",
   "language": "python",
   "name": "conda-env-oldqt-py"
  },
  "language_info": {
   "codemirror_mode": {
    "name": "ipython",
    "version": 3
   },
   "file_extension": ".py",
   "mimetype": "text/x-python",
   "name": "python",
   "nbconvert_exporter": "python",
   "pygments_lexer": "ipython3",
   "version": "3.5.2"
  }
 },
 "nbformat": 4,
 "nbformat_minor": 1
}
