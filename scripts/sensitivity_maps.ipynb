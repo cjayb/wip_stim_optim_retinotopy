{
 "cells": [
  {
   "cell_type": "markdown",
   "metadata": {},
   "source": [
    "# Sensitivity of gradiometers and magnetometers on sources in retinotopic labels\n",
    "\n",
    "Turns out we cannot combine the grads and mags into one \"conglomerate\" sensitivity map: the scale of the signals is so different that just based on the forward model, the gradiometers have far higher sensitivity! To make a proper comparison, we must interrogate the CTFs.\n",
    "\n",
    "However, as a first approximation as to how much signal each label can produce, relative to other labels, we can just use one sensor type. I predict that the results will depend only little on which is used (to be verified!)"
   ]
  },
  {
   "cell_type": "code",
   "execution_count": 1,
   "metadata": {
    "collapsed": true
   },
   "outputs": [],
   "source": [
    "%matplotlib qt"
   ]
  },
  {
   "cell_type": "code",
   "execution_count": 2,
   "metadata": {
    "collapsed": true
   },
   "outputs": [],
   "source": [
    "data_path = '/Users/cjb/projects/CFF_Retinotopy/scratch'\n",
    "subject = '030_WAH'\n",
    "sens_type = 'mag'\n",
    "normalize_sens_map = True\n",
    "plot3d_hemi = 'lh'\n",
    "plot3d_reg = 'V3'\n",
    "plot_x3d = False"
   ]
  },
  {
   "cell_type": "code",
   "execution_count": 3,
   "metadata": {
    "collapsed": false
   },
   "outputs": [],
   "source": [
    "from retinotopic_helpers import *\n",
    "from mne import sensitivity_map, read_forward_solution\n",
    "import matplotlib.pyplot as plt"
   ]
  },
  {
   "cell_type": "code",
   "execution_count": 4,
   "metadata": {
    "collapsed": false
   },
   "outputs": [],
   "source": [
    "if plot_x3d:\n",
    "    from mayavi import mlab\n",
    "    mlab.init_notebook()"
   ]
  },
  {
   "cell_type": "code",
   "execution_count": 5,
   "metadata": {
    "collapsed": false
   },
   "outputs": [
    {
     "name": "stdout",
     "output_type": "stream",
     "text": [
      "Reading forward solution from /Users/cjb/projects/CFF_Retinotopy/scratch/VS1-ico5-fwd.fif...\n",
      "    Reading a source space...\n",
      "    Computing patch statistics...\n",
      "    Patch information added...\n",
      "    Distance information added...\n",
      "    [done]\n",
      "    Reading a source space...\n",
      "    Computing patch statistics...\n",
      "    Patch information added...\n",
      "    Distance information added...\n",
      "    [done]\n",
      "    2 source spaces read\n",
      "    Desired named matrix (kind = 3523) not available\n",
      "    Read MEG forward solution (20484 sources, 306 channels, free orientations)\n",
      "    Source spaces transformed to the forward solution coordinate frame\n",
      "    Converting to surface-based source orientations...\n",
      "    Average patch normals will be employed in the rotation to the local surface coordinates....\n",
      "[done]\n",
      "Leadfield size : 306 x 61452\n"
     ]
    }
   ],
   "source": [
    "subjects_dir = join(data_path, 'fs_subjects_dir')\n",
    "fwd_fname = join(data_path, 'VS1-ico5-fwd.fif')\n",
    "\n",
    "# Read the forward solutions with surface orientation\n",
    "fwd = read_forward_solution(fwd_fname, surf_ori=True)\n",
    "print(\"Leadfield size : %d x %d\" % fwd['sol']['data'].shape)"
   ]
  },
  {
   "cell_type": "code",
   "execution_count": 6,
   "metadata": {
    "collapsed": false
   },
   "outputs": [
    {
     "name": "stdout",
     "output_type": "stream",
     "text": [
      "    102 out of 306 channels remain after picking\n",
      "Updating smoothing matrix, be patient..\n",
      "Smoothing matrix creation, step 1\n",
      "Smoothing matrix creation, step 2\n",
      "Smoothing matrix creation, step 3\n",
      "Smoothing matrix creation, step 4\n",
      "Smoothing matrix creation, step 5\n",
      "Smoothing matrix creation, step 6\n",
      "Smoothing matrix creation, step 7\n",
      "Smoothing matrix creation, step 8\n",
      "Smoothing matrix creation, step 9\n",
      "Smoothing matrix creation, step 10\n",
      "colormap: fmin=1.79e-02 fmid=3.95e-01 fmax=1.00e+00 transparent=1\n"
     ]
    },
    {
     "name": "stderr",
     "output_type": "stream",
     "text": [
      "/Users/cjb/miniconda_envs/oldqt/lib/python3.5/site-packages/mayavi-4.5.0-py3.5-macosx-10.6-x86_64.egg/mayavi/tools/camera.py:288: FutureWarning: elementwise comparison failed; returning scalar instead, but in the future will perform elementwise comparison\n",
      "  if focalpoint is not None and not focalpoint == 'auto':\n"
     ]
    }
   ],
   "source": [
    "mode = 'fixed'  # 'free' is almost one-to-one with distance\n",
    "sens_map = sensitivity_map(fwd, ch_type=sens_type, mode=mode,\n",
    "                           norm=normalize_sens_map)\n",
    "brain = sens_map.plot(time_label='Sensitivity', subjects_dir=subjects_dir,\n",
    "                      clim=dict(lims=[0, 50, 100]), hemi=plot3d_hemi)\n",
    "\n",
    "normalizer = 1 if normalize_sens_map else sens_map.data.max()"
   ]
  },
  {
   "cell_type": "markdown",
   "metadata": {},
   "source": [
    "## Plot for all regions"
   ]
  },
  {
   "cell_type": "code",
   "execution_count": 7,
   "metadata": {
    "collapsed": false
   },
   "outputs": [
    {
     "name": "stdout",
     "output_type": "stream",
     "text": [
      "Reading labels from parcellation..\n",
      "   read 18 labels from /Users/cjb/projects/CFF_Retinotopy/scratch/fs_subjects_dir/030_WAH/label/lh.RM.V1.annot\n",
      "[done]\n",
      "Reading labels from parcellation..\n",
      "   read 18 labels from /Users/cjb/projects/CFF_Retinotopy/scratch/fs_subjects_dir/030_WAH/label/rh.RM.V1.annot\n",
      "[done]\n",
      "Reading labels from parcellation..\n",
      "   read 18 labels from /Users/cjb/projects/CFF_Retinotopy/scratch/fs_subjects_dir/030_WAH/label/lh.RM.V2.annot\n",
      "[done]\n",
      "Reading labels from parcellation..\n",
      "   read 18 labels from /Users/cjb/projects/CFF_Retinotopy/scratch/fs_subjects_dir/030_WAH/label/rh.RM.V2.annot\n",
      "[done]\n",
      "Reading labels from parcellation..\n",
      "   read 18 labels from /Users/cjb/projects/CFF_Retinotopy/scratch/fs_subjects_dir/030_WAH/label/lh.RM.V3.annot\n",
      "[done]\n",
      "Reading labels from parcellation..\n",
      "   read 18 labels from /Users/cjb/projects/CFF_Retinotopy/scratch/fs_subjects_dir/030_WAH/label/rh.RM.V3.annot\n",
      "[done]\n"
     ]
    }
   ],
   "source": [
    "labels = get_RM_labels(subject, subjects_dir=subjects_dir)"
   ]
  },
  {
   "cell_type": "code",
   "execution_count": 8,
   "metadata": {
    "collapsed": false,
    "scrolled": true
   },
   "outputs": [
    {
     "name": "stdout",
     "output_type": "stream",
     "text": [
      "in_label fails at: V2-lh-RM258-lh\n"
     ]
    },
    {
     "name": "stderr",
     "output_type": "stream",
     "text": [
      "/Users/cjb/miniconda_envs/oldqt/lib/python3.5/site-packages/mayavi-4.5.0-py3.5-macosx-10.6-x86_64.egg/mayavi/tools/camera.py:288: FutureWarning: elementwise comparison failed; returning scalar instead, but in the future will perform elementwise comparison\n",
      "  if focalpoint is not None and not focalpoint == 'auto':\n"
     ]
    }
   ],
   "source": [
    "fig = plt.figure(num=21,\n",
    "                 figsize = (len(labels.keys())*polax_size, polax_size))\n",
    "fig.clear()\n",
    "for iax, reg in enumerate(labels.keys()):\n",
    "\n",
    "    polax_bardata_reset()\n",
    "    ax = plt.subplot(1, len(labels.keys()), iax + 1,\n",
    "                    projection='polar')\n",
    "\n",
    "    for hemi_bit, hemi in enumerate(('lh', 'rh')):\n",
    "        for lab in labels[reg][hemi]:\n",
    "\n",
    "            ecc_ind, ang_ind = get_ecc_ang_inds(lab.name)\n",
    "\n",
    "            try:\n",
    "#                 color = cm.hot(sens_map.in_label(lab).data.mean() / normalizer)\n",
    "                val = sens_map.in_label(lab).data.mean() / normalizer\n",
    "            except ValueError:\n",
    "                val = None\n",
    "#                 color = (1., 1., 1.)\n",
    "\n",
    "                print('in_label fails at: {0:s}-{1:s}-{2:s}'.format(reg, hemi,\n",
    "                                                                    lab.name))\n",
    "#             else:\n",
    "#                 print(reg, lab.name,\n",
    "#                       '{:d}'.format(len(sens_map.in_label(lab).data)))\n",
    "            \n",
    "            polax_bardata_append(hemi_bit, ecc_ind, ang_ind, val)\n",
    "#             c_plot.append(color)\n",
    "\n",
    "            if hemi == plot3d_hemi and reg==plot3d_reg:\n",
    "                cval = polax_get_colour(val, cmap=cm.hot,\n",
    "                                        normalizer=normalizer)\n",
    "                brain.add_label(lab, color=cval)\n",
    "\n",
    "    polax_bardata_setcols(ax, cmap=cm.hot)\n",
    "#     ax.set_theta_zero_location(\"N\")\n",
    "#     bars = ax.bar(th_plot, r_plot, width=w_plot, bottom=b_plot)\n",
    "#     for val, bar in zip(val_plot, bars):\n",
    "#         bar.set_facecolor(cm.hot(val) if not val is None else (1., 1., 1.))"
   ]
  },
  {
   "cell_type": "code",
   "execution_count": null,
   "metadata": {
    "collapsed": true
   },
   "outputs": [],
   "source": []
  }
 ],
 "metadata": {
  "anaconda-cloud": {},
  "hide_input": false,
  "kernelspec": {
   "display_name": "Python [conda env:oldqt]",
   "language": "python",
   "name": "conda-env-oldqt-py"
  },
  "language_info": {
   "codemirror_mode": {
    "name": "ipython",
    "version": 3
   },
   "file_extension": ".py",
   "mimetype": "text/x-python",
   "name": "python",
   "nbconvert_exporter": "python",
   "pygments_lexer": "ipython3",
   "version": "3.5.2"
  }
 },
 "nbformat": 4,
 "nbformat_minor": 1
}
