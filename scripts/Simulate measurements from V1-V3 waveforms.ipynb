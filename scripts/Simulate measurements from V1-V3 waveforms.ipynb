{
 "cells": [
  {
   "cell_type": "markdown",
   "metadata": {},
   "source": [
    "# Simulate measurements from V1, V2 and V3 waveforms\n",
    "\n",
    "Starting with a `.npy`-representation of source (patch) activity made with [this notebook](Make%20V1-V3%20waveforms.ipynb), forward model data for different stimulus locations."
   ]
  },
  {
   "cell_type": "code",
   "execution_count": 1,
   "metadata": {
    "collapsed": true
   },
   "outputs": [],
   "source": [
    "%matplotlib qt"
   ]
  },
  {
   "cell_type": "code",
   "execution_count": 2,
   "metadata": {
    "collapsed": false
   },
   "outputs": [],
   "source": [
    "import numpy as np\n",
    "import matplotlib.pyplot as plt\n",
    "from scipy.interpolate import UnivariateSpline\n",
    "from scipy.misc import imread"
   ]
  },
  {
   "cell_type": "markdown",
   "metadata": {},
   "source": [
    "## Load the source data"
   ]
  },
  {
   "cell_type": "code",
   "execution_count": 3,
   "metadata": {
    "collapsed": true
   },
   "outputs": [],
   "source": [
    "imname = 'Hagler2014-Fig8D-cropped.npy'\n",
    "fs = 250.  # Hz"
   ]
  },
  {
   "cell_type": "code",
   "execution_count": 6,
   "metadata": {
    "collapsed": false
   },
   "outputs": [],
   "source": [
    "# n_times x 4 (= [t_axis, V1, V2, V3])\n",
    "waveforms = np.load(imname.split('.')[0] + '.npy')"
   ]
  },
  {
   "cell_type": "markdown",
   "metadata": {},
   "source": [
    "## Load the forward data"
   ]
  },
  {
   "cell_type": "code",
   "execution_count": 7,
   "metadata": {
    "collapsed": true
   },
   "outputs": [],
   "source": [
    "from retinotopic_helpers import *\n",
    "from mne.io import read_raw_fif"
   ]
  },
  {
   "cell_type": "code",
   "execution_count": 11,
   "metadata": {
    "collapsed": true
   },
   "outputs": [],
   "source": [
    "# ch_type = 'meg'  # may make little sense, since scale of 'grad' dominates!\n",
    "# ch_type = 'grad'\n",
    "ch_type = 'mag'\n",
    "\n",
    "regions = ['V1', 'V2', 'V3']"
   ]
  },
  {
   "cell_type": "code",
   "execution_count": 8,
   "metadata": {
    "collapsed": false
   },
   "outputs": [
    {
     "name": "stdout",
     "output_type": "stream",
     "text": [
      "Opening raw data file /Users/cjb/data/MINDLAB2013_01-MEG-AttentionEmotionVisualTracking/scratch/VS1_cropped1sec.fif...\n",
      "This filename (/Users/cjb/data/MINDLAB2013_01-MEG-AttentionEmotionVisualTracking/scratch/VS1_cropped1sec.fif) does not conform to MNE naming conventions. All raw files should end with raw.fif, raw_sss.fif, raw_tsss.fif, raw.fif.gz, raw_sss.fif.gz or raw_tsss.fif.gz\n",
      "    Range : 166000 ... 167000 =    166.000 ...   167.000 secs\n",
      "Ready.\n",
      "Current compensation grade : 0\n"
     ]
    },
    {
     "name": "stderr",
     "output_type": "stream",
     "text": [
      "<ipython-input-8-535f17674584>:6: RuntimeWarning: This filename (/Users/cjb/data/MINDLAB2013_01-MEG-AttentionEmotionVisualTracking/scratch/VS1_cropped1sec.fif) does not conform to MNE naming conventions. All raw files should end with raw.fif, raw_sss.fif, raw_tsss.fif, raw.fif.gz, raw_sss.fif.gz or raw_tsss.fif.gz\n",
      "  info = read_raw_fif(fname_raw, preload=False).info\n"
     ]
    }
   ],
   "source": [
    "data_path = '/Users/cjb/projects/CFF_Retinotopy/scratch'\n",
    "subject = '030_WAH'\n",
    "subjects_dir = join(data_path, 'fs_subjects_dir')\n",
    "fname_fwd = join(data_path, 'restricted_1LBEM-fwd.fif')\n",
    "fname_raw = join(data_path, 'VS1_cropped1sec.fif')\n",
    "info = read_raw_fif(fname_raw, preload=False).info"
   ]
  },
  {
   "cell_type": "code",
   "execution_count": 12,
   "metadata": {
    "collapsed": false
   },
   "outputs": [
    {
     "name": "stdout",
     "output_type": "stream",
     "text": [
      "Reading forward solution from /Users/cjb/projects/CFF_Retinotopy/scratch/restricted_1LBEM-fwd.fif...\n",
      "    Reading a source space...\n",
      "    [done]\n",
      "    Reading a source space...\n",
      "    [done]\n",
      "    2 source spaces read\n",
      "    Desired named matrix (kind = 3523) not available\n",
      "    Read MEG forward solution (9700 sources, 306 channels, free orientations)\n",
      "    Source spaces transformed to the forward solution coordinate frame\n",
      "    Cartesian source orientations...\n",
      "[done]\n",
      "    102 out of 306 channels remain after picking\n",
      "    Changing to fixed-orientation forward solution with surface-based source orientations...\n",
      "    [done]\n"
     ]
    }
   ],
   "source": [
    "fwd = read_forward_solution(fname_fwd)\n",
    "# change to surface coords & select channel type(s)\n",
    "fwd = prepare_gain(fwd, ch_type=ch_type)\n",
    "fwd_fixed = convert_forward_solution(fwd, force_fixed=True, copy=True)"
   ]
  },
  {
   "cell_type": "code",
   "execution_count": null,
   "metadata": {
    "collapsed": true
   },
   "outputs": [],
   "source": [
    "evoked = simulate_evoked(fwd_fixed, stc, info, cov=cov, snr=snr)"
   ]
  }
 ],
 "metadata": {
  "kernelspec": {
   "display_name": "Python [conda env:oldqt]",
   "language": "python",
   "name": "conda-env-oldqt-py"
  },
  "language_info": {
   "codemirror_mode": {
    "name": "ipython",
    "version": 3
   },
   "file_extension": ".py",
   "mimetype": "text/x-python",
   "name": "python",
   "nbconvert_exporter": "python",
   "pygments_lexer": "ipython3",
   "version": "3.5.2"
  }
 },
 "nbformat": 4,
 "nbformat_minor": 1
}
