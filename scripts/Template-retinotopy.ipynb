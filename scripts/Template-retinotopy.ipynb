{
 "cells": [
  {
   "cell_type": "markdown",
   "metadata": {},
   "source": [
    "# Map template retinotopy to individual\n",
    "\n",
    "Based on work by the [Geoffrey Aguirre Lab](https://cfn.upenn.edu/aguirre/wiki/public:retinotopy_template), and Benson et al."
   ]
  },
  {
   "cell_type": "code",
   "execution_count": 4,
   "metadata": {
    "collapsed": false
   },
   "outputs": [
    {
     "name": "stdout",
     "output_type": "stream",
     "text": []
    }
   ],
   "source": [
    "SUBJECTS_DIR=/Users/cjb/projects/CFF_Retinotopy/fs_subjects_dir\n",
    "subject=s18\n",
    "do_surfreg=false  # takes a long time\n",
    "clobber_surfreg=false  # redo"
   ]
  },
  {
   "cell_type": "markdown",
   "metadata": {},
   "source": [
    "## Register subject to symmetric `fsaverage`\n",
    "\n",
    "This takes quite a bit of time:\n",
    "\n",
    "* 17 min for `--lh` (Macbook Pro 2013, 16 GB RAM)\n",
    "* 20 min for `--lh xhemi` (Macbook Pro 2013, 16 GB RAM)\n",
    "\n",
    "`surfreg` registers each hemishpere of the `$subject` to the symmetric atlas. See the [Freesurfer page](http://surfer.nmr.mgh.harvard.edu/fswiki/Xhemi) for details on how (why) the right hemisphere is dealt with in the particular way it is. See also the [Benson et al. procedure](https://cfn.upenn.edu/aguirre/wiki/public:retinotopy_template).\n",
    "\n",
    "__NB: The `--lh` below are checked and correct!__"
   ]
  },
  {
   "cell_type": "code",
   "execution_count": 5,
   "metadata": {
    "collapsed": false
   },
   "outputs": [
    {
     "name": "stdout",
     "output_type": "stream",
     "text": [
      "Fri Dec  9 15:21:16 CET 2016\r\n",
      "\r\n",
      "setenv SUBJECTS_DIR /Users/cjb/projects/CFF_Retinotopy/fs_subjects_dir\r\n",
      "cd /Users/cjb/projects/CFF_Retinotopy/scripts\r\n",
      "/Users/cjb/UnixApps/freesurfer/bin/surfreg --s s18 --t fsaverage_sym --lh\r\n",
      "\r\n",
      "Darwin hathor 15.5.0 Darwin Kernel Version 15.5.0: Tue Apr 19 18:36:36 PDT 2016; root:xnu-3248.50.21~8/RELEASE_X86_64 x86_64\r\n",
      "#@# lh Fri Dec  9 15:21:16 CET 2016\r\n",
      "#CMD# mris_register -curv -annot aparc.annot /Users/cjb/projects/CFF_Retinotopy/fs_subjects_dir/s18/surf/lh.sphere /Users/cjb/projects/CFF_Retinotopy/fs_subjects_dir/fsaverage_sym/lh.reg.template.tif /Users/cjb/projects/CFF_Retinotopy/fs_subjects_dir/s18/surf/lh.fsaverage_sym.sphere.reg\r\n",
      "using smoothwm curvature for final alignment\r\n",
      "zeroing medial wall in aparc.annot\r\n",
      "$Id: mris_register.c,v 1.59 2011/03/02 00:04:33 nicks Exp $\r\n",
      "  $Id: mrisurf.c,v 1.693.2.7 2013/05/12 22:28:01 nicks Exp $\r\n",
      "reading surface from /Users/cjb/projects/CFF_Retinotopy/fs_subjects_dir/s18/surf/lh.sphere...\r\n",
      "reading colortable from annotation file...\r\n",
      "colortable with 36 entries read (originally /autofs/space/terrier_001/users/nicks/freesurfer/average/colortable_desikan_killiany.txt)\r\n",
      "reading template parameterization from /Users/cjb/projects/CFF_Retinotopy/fs_subjects_dir/fsaverage_sym/lh.reg.template.tif...\r\n",
      "ripping medial wall...\r\n",
      "MRISregister() -------\r\n",
      "max_passes = 4 \r\n",
      "min_degrees = 0.500000 \r\n",
      "max_degrees = 64.000000 \r\n",
      "nangles = 8 \r\n",
      "tol=5.0e-01, sigma=0.0, host=hatho, nav=1024, nbrs=1, l_extern=10000.000, l_parea=0.200, l_nlarea=1.000, l_corr=1.000, l_dist=5.000\r\n",
      "using quadratic fit line minimization\r\n",
      "complete_dist_mat 0\r\n",
      "rms 0\r\n",
      "smooth_averages 0\r\n",
      "remove_neg 0\r\n",
      "ico_order 0\r\n",
      "which_surface 0\r\n",
      "target_radius 0.000000\r\n",
      "nfields 0\r\n",
      "scale 0.000000\r\n",
      "desired_rms_height -1.000000\r\n",
      "momentum 0.950000\r\n",
      "nbhd_size -10\r\n",
      "max_nbrs 10\r\n",
      "niterations 25\r\n",
      "nsurfaces 0\r\n",
      "SURFACES 3\r\n",
      "flags 16 (10)\r\n",
      "use curv 16\r\n",
      "no sulc 0\r\n",
      "no rigid align 0\r\n",
      "mris->nsize 1\r\n",
      "mris->hemisphere 0\r\n",
      "randomSeed 0\r\n",
      "\r\n",
      "tol=5.0e-01, sigma=0.0, host=hatho, nav=1024, nbrs=1, l_extern=10000.000, l_parea=0.200, l_nlarea=1.000, l_corr=1.000, l_dist=5.000\r\n",
      "using quadratic fit line minimization\r\n",
      "--------------------\r\n",
      "1 Reading lh.sulc\r\n",
      "curvature mean = 0.003, std = 0.626\r\n",
      "curvature mean = 0.028, std = 0.813\r\n",
      "curvature mean = 0.018, std = 0.863\r\n",
      "Starting MRISrigidBodyAlignGlobal()\r\n",
      "  d=32.00 min @ (0.00, -8.00, 0.00) sse = 212151.3, tmin=1.3286\r\n",
      "  d=16.00 min @ (4.00, 4.00, 0.00) sse = 191747.9, tmin=1.9753\r\n",
      "  d=4.00 min @ (-1.00, -1.00, 1.00) sse = 189763.0, tmin=3.3364\r\n",
      "  d=2.00 min @ (0.50, 0.00, -0.50) sse = 189633.8, tmin=4.0191\r\n",
      "  d=1.00 min @ (-0.25, 0.25, 0.25) sse = 189441.0, tmin=4.6860\r\n",
      "  d=0.50 min @ (0.00, -0.12, 0.00) sse = 189429.1, tmin=5.3575\r\n",
      "tol=1.0e+00, sigma=0.5, host=hatho, nav=1024, nbrs=1, l_extern=10000.000, l_parea=0.200, l_nlarea=1.000, l_corr=0.050, l_spring=0.500, l_dist=5.000\r\n",
      "using quadratic fit line minimization\r\n",
      "MRISrigidBodyAlignGlobal() done   5.36 min\r\n",
      "curvature mean = 0.012, std = 0.834\r\n",
      "curvature mean = 0.010, std = 0.942\r\n",
      "curvature mean = 0.011, std = 0.847\r\n",
      "curvature mean = 0.005, std = 0.974\r\n",
      "curvature mean = 0.010, std = 0.850\r\n",
      "curvature mean = 0.002, std = 0.989\r\n",
      "2 Reading smoothwm\r\n",
      "curvature mean = -0.025, std = 0.589\r\n",
      "curvature mean = 0.034, std = 0.123\r\n",
      "curvature mean = 0.036, std = 0.168\r\n",
      "curvature mean = 0.034, std = 0.152\r\n",
      "curvature mean = 0.022, std = 0.262\r\n",
      "curvature mean = 0.033, std = 0.166\r\n",
      "curvature mean = 0.013, std = 0.337\r\n",
      "curvature mean = 0.033, std = 0.173\r\n",
      "curvature mean = 0.004, std = 0.402\r\n",
      "MRISregister() return, current seed 0\r\n",
      "writing registered surface to /Users/cjb/projects/CFF_Retinotopy/fs_subjects_dir/s18/surf/lh.fsaverage_sym.sphere.reg...\r\n",
      "expanding nbhd size to 1\r\n",
      "surfreg-Run-Time-Hours s18 lh 0 0.29\r\n",
      "Fri Dec  9 15:38:54 CET 2016\r\n",
      "surfreg done\r\n",
      "Fri Dec  9 15:38:54 CET 2016\r\n",
      "\r\n",
      "setenv SUBJECTS_DIR /Users/cjb/projects/CFF_Retinotopy/fs_subjects_dir\r\n",
      "cd /Users/cjb/projects/CFF_Retinotopy/scripts\r\n",
      "/Users/cjb/UnixApps/freesurfer/bin/surfreg --s s18 --t fsaverage_sym --lh --xhemi\r\n",
      "\r\n",
      "Darwin hathor 15.5.0 Darwin Kernel Version 15.5.0: Tue Apr 19 18:36:36 PDT 2016; root:xnu-3248.50.21~8/RELEASE_X86_64 x86_64\r\n",
      "#@# lh Fri Dec  9 15:38:55 CET 2016\r\n",
      "#CMD# mris_register -curv -annot aparc.annot /Users/cjb/projects/CFF_Retinotopy/fs_subjects_dir/s18/xhemi/surf/lh.sphere /Users/cjb/projects/CFF_Retinotopy/fs_subjects_dir/fsaverage_sym/lh.reg.template.tif /Users/cjb/projects/CFF_Retinotopy/fs_subjects_dir/s18/xhemi/surf/lh.fsaverage_sym.sphere.reg\r\n",
      "using smoothwm curvature for final alignment\r\n",
      "zeroing medial wall in aparc.annot\r\n",
      "$Id: mris_register.c,v 1.59 2011/03/02 00:04:33 nicks Exp $\r\n",
      "  $Id: mrisurf.c,v 1.693.2.7 2013/05/12 22:28:01 nicks Exp $\r\n",
      "reading surface from /Users/cjb/projects/CFF_Retinotopy/fs_subjects_dir/s18/xhemi/surf/lh.sphere...\r\n",
      "reading colortable from annotation file...\r\n",
      "colortable with 36 entries read (originally /autofs/space/terrier_001/users/nicks/freesurfer/average/colortable_desikan_killiany.txt)\r\n",
      "reading template parameterization from /Users/cjb/projects/CFF_Retinotopy/fs_subjects_dir/fsaverage_sym/lh.reg.template.tif...\r\n",
      "ripping medial wall...\r\n",
      "MRISregister() -------\r\n",
      "max_passes = 4 \r\n",
      "min_degrees = 0.500000 \r\n",
      "max_degrees = 64.000000 \r\n",
      "nangles = 8 \r\n",
      "tol=5.0e-01, sigma=0.0, host=hatho, nav=1024, nbrs=1, l_extern=10000.000, l_parea=0.200, l_nlarea=1.000, l_corr=1.000, l_dist=5.000\r\n",
      "using quadratic fit line minimization\r\n",
      "complete_dist_mat 0\r\n",
      "rms 0\r\n",
      "smooth_averages 0\r\n",
      "remove_neg 0\r\n",
      "ico_order 0\r\n",
      "which_surface 0\r\n",
      "target_radius 0.000000\r\n",
      "nfields 0\r\n",
      "scale 0.000000\r\n",
      "desired_rms_height -1.000000\r\n",
      "momentum 0.950000\r\n",
      "nbhd_size -10\r\n",
      "max_nbrs 10\r\n",
      "niterations 25\r\n",
      "nsurfaces 0\r\n",
      "SURFACES 3\r\n",
      "flags 16 (10)\r\n",
      "use curv 16\r\n",
      "no sulc 0\r\n",
      "no rigid align 0\r\n",
      "mris->nsize 1\r\n",
      "mris->hemisphere 0\r\n",
      "randomSeed 0\r\n",
      "\r\n",
      "tol=5.0e-01, sigma=0.0, host=hatho, nav=1024, nbrs=1, l_extern=10000.000, l_parea=0.200, l_nlarea=1.000, l_corr=1.000, l_dist=5.000\r\n",
      "using quadratic fit line minimization\r\n",
      "--------------------\r\n",
      "1 Reading lh.sulc\r\n",
      "curvature mean = 0.002, std = 0.612\r\n",
      "curvature mean = 0.028, std = 0.811\r\n",
      "curvature mean = 0.020, std = 0.857\r\n",
      "Starting MRISrigidBodyAlignGlobal()\r\n",
      "  d=32.00 min @ (0.00, -8.00, 0.00) sse = 228866.6, tmin=1.2813\r\n",
      "  d=16.00 min @ (-4.00, 0.00, 4.00) sse = 221809.4, tmin=1.9304\r\n",
      "  d=8.00 min @ (2.00, 0.00, 0.00) sse = 217811.2, tmin=2.6113\r\n",
      "  d=4.00 min @ (0.00, 0.00, -1.00) sse = 216849.3, tmin=3.2966\r\n",
      "  d=1.00 min @ (-0.25, 0.00, 0.25) sse = 216810.6, tmin=4.6628\r\n",
      "  d=0.50 min @ (0.00, -0.12, -0.12) sse = 216790.3, tmin=5.3514\r\n",
      "tol=1.0e+00, sigma=0.5, host=hatho, nav=1024, nbrs=1, l_extern=10000.000, l_parea=0.200, l_nlarea=1.000, l_corr=0.050, l_spring=0.500, l_dist=5.000\r\n",
      "using quadratic fit line minimization\r\n",
      "MRISrigidBodyAlignGlobal() done   5.35 min\r\n",
      "curvature mean = 0.006, std = 0.826\r\n",
      "curvature mean = 0.008, std = 0.934\r\n",
      "curvature mean = 0.002, std = 0.839\r\n",
      "curvature mean = 0.004, std = 0.970\r\n",
      "curvature mean = -0.001, std = 0.840\r\n",
      "curvature mean = 0.002, std = 0.987\r\n",
      "2 Reading smoothwm\r\n",
      "curvature mean = -0.025, std = 0.284\r\n",
      "curvature mean = 0.034, std = 0.122\r\n",
      "curvature mean = 0.072, std = 0.341\r\n",
      "curvature mean = 0.034, std = 0.151\r\n",
      "curvature mean = 0.044, std = 0.530\r\n",
      "curvature mean = 0.034, std = 0.165\r\n",
      "curvature mean = 0.025, std = 0.678\r\n",
      "curvature mean = 0.034, std = 0.171\r\n",
      "curvature mean = 0.009, std = 0.794\r\n",
      "MRISregister() return, current seed 0\r\n",
      "writing registered surface to /Users/cjb/projects/CFF_Retinotopy/fs_subjects_dir/s18/xhemi/surf/lh.fsaverage_sym.sphere.reg...\r\n",
      "expanding nbhd size to 1\r\n",
      "surfreg-Run-Time-Hours s18 lh 1 0.30\r\n",
      "Fri Dec  9 15:57:01 CET 2016\r\n",
      "surfreg done\r\n"
     ]
    }
   ],
   "source": [
    "if [ $do_surfreg = true ]; then\n",
    "    if [ $clobber_surfreg = true ]; then\n",
    "        rm ${SUBJECTS_DIR}/${subject}/surf/lh.fsaverage_sym.sphere.reg\n",
    "        rm ${SUBJECTS_DIR}/${subject}/xhemi/surf/lh.fsaverage_sym.sphere.reg\n",
    "    fi\n",
    "    surfreg --s $subject --t fsaverage_sym --lh\n",
    "    surfreg --s $subject --t fsaverage_sym --lh --xhemi\n",
    "fi"
   ]
  },
  {
   "cell_type": "markdown",
   "metadata": {},
   "source": [
    "## Coregister angle-, eccentricity- and area-templates to individual\n",
    "\n",
    "Requires these files:\n",
    "* `angle-template-2.5.sym.mgh`\n",
    "* `eccen-template-2.5.sym.mgh`\n",
    "* `areas-template-2.5.sym.mgh`"
   ]
  },
  {
   "cell_type": "code",
   "execution_count": 6,
   "metadata": {
    "collapsed": false
   },
   "outputs": [
    {
     "name": "stdout",
     "output_type": "stream",
     "text": []
    }
   ],
   "source": [
    "sym_files=(angle-template-2.5.sym.mgh \\\n",
    "           eccen-template-2.5.sym.mgh \\\n",
    "           areas-template-2.5.sym.mgh)"
   ]
  },
  {
   "cell_type": "code",
   "execution_count": 7,
   "metadata": {
    "collapsed": false
   },
   "outputs": [
    {
     "name": "stdout",
     "output_type": "stream",
     "text": [
      "mri_surf2surf --srcsubject fsaverage_sym --srcsurfreg sphere.reg --trgsubject s18 --trgsurfreg fsaverage_sym.sphere.reg --hemi lh --sval angle-template-2.5.sym.mgh --tval /Users/cjb/projects/CFF_Retinotopy/fs_subjects_dir/s18/label/lh.benson.angle.mgh\r\n",
      "mri_surf2surf --srcsubject fsaverage_sym --srcsurfreg sphere.reg --trgsubject s18/xhemi --trgsurfreg fsaverage_sym.sphere.reg --hemi lh --sval angle-template-2.5.sym.mgh --tval /Users/cjb/projects/CFF_Retinotopy/fs_subjects_dir/s18/label/rh.benson.angle.mgh\r\n",
      "mri_surf2surf --srcsubject fsaverage_sym --srcsurfreg sphere.reg --trgsubject s18 --trgsurfreg fsaverage_sym.sphere.reg --hemi lh --sval eccen-template-2.5.sym.mgh --tval /Users/cjb/projects/CFF_Retinotopy/fs_subjects_dir/s18/label/lh.benson.eccen.mgh\r\n",
      "mri_surf2surf --srcsubject fsaverage_sym --srcsurfreg sphere.reg --trgsubject s18/xhemi --trgsurfreg fsaverage_sym.sphere.reg --hemi lh --sval eccen-template-2.5.sym.mgh --tval /Users/cjb/projects/CFF_Retinotopy/fs_subjects_dir/s18/label/rh.benson.eccen.mgh\r\n",
      "mri_surf2surf --srcsubject fsaverage_sym --srcsurfreg sphere.reg --trgsubject s18 --trgsurfreg fsaverage_sym.sphere.reg --hemi lh --sval areas-template-2.5.sym.mgh --tval /Users/cjb/projects/CFF_Retinotopy/fs_subjects_dir/s18/label/lh.benson.areas.mgh\r\n",
      "mri_surf2surf --srcsubject fsaverage_sym --srcsurfreg sphere.reg --trgsubject s18/xhemi --trgsurfreg fsaverage_sym.sphere.reg --hemi lh --sval areas-template-2.5.sym.mgh --tval /Users/cjb/projects/CFF_Retinotopy/fs_subjects_dir/s18/label/rh.benson.areas.mgh\r\n"
     ]
    }
   ],
   "source": [
    "# for each of the symmetric templates\n",
    "for sf in ${sym_files[@]}\n",
    "do\n",
    "    prefix=\"$( cut -d '-' -f 1 <<< \"$sf\" )\"  # get template short name\n",
    "    # separately for each hemisphere\n",
    "    for hemi in 'lh' 'rh'\n",
    "    do\n",
    "        outname=${SUBJECTS_DIR}/${subject}/label/${hemi}.benson.${prefix}.mgh\n",
    "\n",
    "        # \"target subject\" for right hemisphere is xhemi\n",
    "        trgsubj=$subject\n",
    "        if [[ $hemi == rh ]]; then\n",
    "            trgsubj=${trgsubj}/xhemi\n",
    "        fi\n",
    "        \n",
    "        # NB! --hemi is always lh, rh is xhemi!\n",
    "        cmd=\"mri_surf2surf --srcsubject fsaverage_sym --srcsurfreg sphere.reg \\\n",
    "             --trgsubject ${trgsubj} --trgsurfreg fsaverage_sym.sphere.reg \\\n",
    "             --hemi lh --sval $sf --tval $outname\"\n",
    "        echo $cmd\n",
    "    #     eval \"$cmd\"\n",
    "    done\n",
    "done"
   ]
  },
  {
   "cell_type": "code",
   "execution_count": null,
   "metadata": {
    "collapsed": true
   },
   "outputs": [],
   "source": []
  }
 ],
 "metadata": {
  "kernelspec": {
   "display_name": "Bash",
   "language": "bash",
   "name": "bash"
  },
  "language_info": {
   "codemirror_mode": "shell",
   "file_extension": ".sh",
   "mimetype": "text/x-sh",
   "name": "bash"
  }
 },
 "nbformat": 4,
 "nbformat_minor": 1
}
