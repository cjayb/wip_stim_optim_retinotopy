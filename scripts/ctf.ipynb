{
 "cells": [
  {
   "cell_type": "code",
   "execution_count": null,
   "metadata": {
    "collapsed": false
   },
   "outputs": [],
   "source": [
    "#%matplotlib inline"
   ]
  },
  {
   "cell_type": "code",
   "execution_count": 1,
   "metadata": {
    "collapsed": false
   },
   "outputs": [],
   "source": [
    "from mayavi import mlab\n",
    "# mlab.init_notebook()"
   ]
  },
  {
   "cell_type": "markdown",
   "metadata": {},
   "source": [
    "\n",
    "===================================================================\n",
    "Compute cross-talk functions (CTFs) for labels for MNE/dSPM/sLORETA\n",
    "===================================================================\n",
    "\n",
    "CTFs are computed for four labels in the MNE sample data set\n",
    "for linear inverse operators (MNE, dSPM, sLORETA).\n",
    "CTFs describe the sensitivity of a linear estimator (e.g. for\n",
    "one label) to sources across the cortical surface. Sensitivity\n",
    "to sources outside the label is undesirable, and referred to as\n",
    "\"leakage\" or \"cross-talk\".\n",
    "\n"
   ]
  },
  {
   "cell_type": "code",
   "execution_count": 6,
   "metadata": {
    "collapsed": false
   },
   "outputs": [
    {
     "name": "stdout",
     "output_type": "stream",
     "text": [
      "Reading labels from parcellation..\n",
      "   read 1 labels from /Users/cjb/projects/CFF_Retinotopy/scratch/fs_subjects_dir/030_WAH/label/lh.V1.VSpos.annot\n",
      "[done]\n"
     ]
    }
   ],
   "source": [
    "# Author: Olaf Hauk <olaf.hauk@mrc-cbu.cam.ac.uk>\n",
    "#\n",
    "# License: BSD (3-clause)\n",
    "\n",
    "\n",
    "from os.path import join\n",
    "\n",
    "from mne import read_labels_from_annot, read_forward_solution, read_label\n",
    "from mne.minimum_norm import cross_talk_function, read_inverse_operator\n",
    "\n",
    "subject = '030_WAH'\n",
    "data_path = '/Users/cjb/projects/CFF_Retinotopy/scratch'\n",
    "subjects_dir = data_path + '/fs_subjects_dir'\n",
    "fname_fwd = data_path + '/VS1-ico5-fwd.fif'\n",
    "fname_inv = data_path + '/VS1-ico5-inv.fif'\n",
    "annot_fname = join(subjects_dir, subject, 'label/lh.V1.VSpos.annot')\n",
    "V1left_fname = join(subjects_dir, subject, 'label/lh.V1.thresh.label')\n",
    "V1right_fname = join(subjects_dir, subject, 'label/rh.V1.thresh.label')\n",
    "V2left_fname = join(subjects_dir, subject, 'label/lh.V2.thresh.label')\n",
    "V2right_fname = join(subjects_dir, subject, 'label/rh.V2.thresh.label')\n",
    "\n",
    "\n",
    "# read labels from annotation\n",
    "labels = read_labels_from_annot(subject, surf_name='white',\n",
    "                                annot_fname=annot_fname,\n",
    "                                regexp='VS1', subjects_dir=subjects_dir)\n",
    "# read label(s)\n",
    "#labels = [mne.read_label(ss) for ss in fname_label]\n",
    "V1left = read_label(V1left_fname)\n",
    "V2left = read_label(V2left_fname)\n",
    "V1right = read_label(V1right_fname)\n",
    "V2right = read_label(V2right_fname)"
   ]
  },
  {
   "cell_type": "code",
   "execution_count": 3,
   "metadata": {
    "collapsed": false
   },
   "outputs": [
    {
     "name": "stdout",
     "output_type": "stream",
     "text": [
      "Reading forward solution from /Users/cjb/projects/CFF_Retinotopy/scratch/VS1-ico5-fwd.fif...\n",
      "    Reading a source space...\n",
      "    Computing patch statistics...\n",
      "    Patch information added...\n",
      "    Distance information added...\n",
      "    [done]\n",
      "    Reading a source space...\n",
      "    Computing patch statistics...\n",
      "    Patch information added...\n",
      "    Distance information added...\n",
      "    [done]\n",
      "    2 source spaces read\n",
      "    Desired named matrix (kind = 3523) not available\n",
      "    Read MEG forward solution (20484 sources, 306 channels, free orientations)\n",
      "    Source spaces transformed to the forward solution coordinate frame\n",
      "    Cartesian source orientations...\n",
      "[done]\n",
      "Reading inverse operator decomposition from /Users/cjb/projects/CFF_Retinotopy/scratch/VS1-ico5-inv.fif...\n",
      "    Reading inverse operator info...\n",
      "    [done]\n",
      "    Reading inverse operator decomposition...\n",
      "    [done]\n",
      "    306 x 306 full covariance (kind = 1) found.\n",
      "    Noise covariance matrix read.\n",
      "    61452 x 61452 diagonal covariance (kind = 2) found.\n",
      "    Source covariance matrix read.\n",
      "    61452 x 61452 diagonal covariance (kind = 6) found.\n",
      "    Orientation priors read.\n",
      "    61452 x 61452 diagonal covariance (kind = 5) found.\n",
      "    Depth priors read.\n",
      "    Did not find the desired covariance matrix (kind = 3)\n",
      "    Reading a source space...\n",
      "    Computing patch statistics...\n",
      "    Patch information added...\n",
      "    Distance information added...\n",
      "    [done]\n",
      "    Reading a source space...\n",
      "    Computing patch statistics...\n",
      "    Patch information added...\n",
      "    Distance information added...\n",
      "    [done]\n",
      "    2 source spaces read\n",
      "    Source spaces transformed to the inverse solution coordinate frame\n",
      "    Changing to fixed-orientation forward solution with surface-based source orientations...\n",
      "    [done]\n",
      "About to process 1 labels\n",
      "Preparing the inverse operator for use...\n",
      "    Scaled noise and source covariance from nave = 1 to nave = 1\n",
      "    Created the regularized inverter\n",
      "    The projection vectors do not apply to these channels.\n",
      "    Created the whitener using a full noise covariance matrix (237 small eigenvalues omitted)\n",
      "Picked 306 channels from the data\n",
      "Computing inverse...\n",
      "(eigenleads need to be weighted)...\n",
      "[done]\n",
      "Dimension of inverse matrix: (20484, 306)\n",
      "Computing SVD within labels, using 2 component(s)\n",
      "First 5 singular values: [ 10.76950329   8.01551901   3.79583098   2.89186161   2.44524031]\n",
      "(This tells you something about variability of estimators in sub-inverse for label)\n",
      "Your 2 component(s) explain(s) 84.3% variance in label.\n"
     ]
    }
   ],
   "source": [
    "# read forward solution\n",
    "forward = read_forward_solution(fname_fwd)\n",
    "\n",
    "inverse_operator = read_inverse_operator(fname_inv)\n",
    "\n",
    "# regularisation parameter\n",
    "snr = 3.0\n",
    "lambda2 = 1.0 / snr ** 2\n",
    "mode = 'svd'\n",
    "n_svd_comp = 2\n",
    "\n",
    "method = 'MNE'  # can be 'MNE', 'dSPM', or 'sLORETA'\n",
    "stc_ctf_mne = cross_talk_function(\n",
    "    inverse_operator, forward, labels, method=method, lambda2=lambda2,\n",
    "    signed=False, mode=mode, n_svd_comp=n_svd_comp)\n",
    "\n",
    "# method = 'dSPM'\n",
    "# stc_ctf_dspm = cross_talk_function(\n",
    "#     inverse_operator, forward, labels, method=method, lambda2=lambda2,\n",
    "#     signed=False, mode=mode, n_svd_comp=n_svd_comp)"
   ]
  },
  {
   "cell_type": "code",
   "execution_count": 9,
   "metadata": {
    "collapsed": false
   },
   "outputs": [
    {
     "name": "stdout",
     "output_type": "stream",
     "text": [
      "Updating smoothing matrix, be patient..\n",
      "Smoothing matrix creation, step 1\n",
      "Smoothing matrix creation, step 2\n",
      "Smoothing matrix creation, step 3\n",
      "Smoothing matrix creation, step 4\n",
      "Smoothing matrix creation, step 5\n",
      "Smoothing matrix creation, step 6\n",
      "Smoothing matrix creation, step 7\n",
      "Smoothing matrix creation, step 8\n",
      "Smoothing matrix creation, step 9\n",
      "Smoothing matrix creation, step 10\n",
      "colormap: fmin=1.01e-03 fmid=1.40e-03 fmax=7.88e-03 transparent=1\n"
     ]
    },
    {
     "name": "stderr",
     "output_type": "stream",
     "text": [
      "/Users/cjb/miniconda_envs/oldqt/lib/python3.5/site-packages/mayavi-4.5.0-py3.5-macosx-10.6-x86_64.egg/mayavi/tools/camera.py:288: FutureWarning: elementwise comparison failed; returning scalar instead, but in the future will perform elementwise comparison\n",
      "  if focalpoint is not None and not focalpoint == 'auto':\n"
     ]
    },
    {
     "name": "stdout",
     "output_type": "stream",
     "text": [
      "Updating smoothing matrix, be patient..\n",
      "Smoothing matrix creation, step 1\n",
      "Smoothing matrix creation, step 2\n",
      "Smoothing matrix creation, step 3\n",
      "Smoothing matrix creation, step 4\n",
      "Smoothing matrix creation, step 5\n",
      "Smoothing matrix creation, step 6\n",
      "Smoothing matrix creation, step 7\n",
      "Smoothing matrix creation, step 8\n",
      "Smoothing matrix creation, step 9\n",
      "Smoothing matrix creation, step 10\n",
      "colormap: fmin=1.01e-03 fmid=1.40e-03 fmax=7.88e-03 transparent=1\n"
     ]
    },
    {
     "name": "stderr",
     "output_type": "stream",
     "text": [
      "/Users/cjb/miniconda_envs/oldqt/lib/python3.5/site-packages/mayavi-4.5.0-py3.5-macosx-10.6-x86_64.egg/mayavi/tools/camera.py:288: FutureWarning: elementwise comparison failed; returning scalar instead, but in the future will perform elementwise comparison\n",
      "  if focalpoint is not None and not focalpoint == 'auto':\n"
     ]
    }
   ],
   "source": [
    "time_label = \"MNE %d\"\n",
    "brain_mneR = stc_ctf_mne.plot(hemi='rh', subjects_dir=subjects_dir,\n",
    "                             time_label=time_label,\n",
    "                             figure=mlab.figure(size=(500, 500)))\n",
    "brain_mneL = stc_ctf_mne.plot(hemi='lh', subjects_dir=subjects_dir,\n",
    "                             time_label=time_label,\n",
    "                             figure=mlab.figure(size=(500, 500)))\n",
    "\n",
    "brain_mneL.add_label(labels[0])\n",
    "brain_mneL.add_label(V1left, color='crimson', borders=True)\n",
    "brain_mneR.add_label(V1right, color='crimson', borders=True)\n",
    "\n",
    "brain_mneL.add_label(V2left, color='aquamarine', alpha=0.5)\n",
    "brain_mneR.add_label(V2right, color='aquamarine', alpha=0.5)\n",
    "\n",
    "\n",
    "# time_label = \"dSPM %d\"\n",
    "# brain_dspm = stc_ctf_dspm.plot(hemi='rh', subjects_dir=subjects_dir,\n",
    "#                                time_label=time_label,\n",
    "#                                figure=mlab.figure(size=(500, 500)))\n",
    "\n",
    "# Cross-talk functions for MNE and dSPM (and sLORETA) have the same shapes\n",
    "# (they may still differ in overall amplitude).\n",
    "# Point-spread functions (PSfs) usually differ significantly."
   ]
  },
  {
   "cell_type": "code",
   "execution_count": 10,
   "metadata": {
    "collapsed": true
   },
   "outputs": [],
   "source": [
    "mlab.show()"
   ]
  },
  {
   "cell_type": "code",
   "execution_count": null,
   "metadata": {
    "collapsed": true
   },
   "outputs": [],
   "source": []
  }
 ],
 "metadata": {
  "anaconda-cloud": {},
  "hide_input": false,
  "kernelspec": {
   "display_name": "Python [conda env:oldqt]",
   "language": "python",
   "name": "conda-env-oldqt-py"
  },
  "language_info": {
   "codemirror_mode": {
    "name": "ipython",
    "version": 3
   },
   "file_extension": ".py",
   "mimetype": "text/x-python",
   "name": "python",
   "nbconvert_exporter": "python",
   "pygments_lexer": "ipython3",
   "version": "3.5.2"
  }
 },
 "nbformat": 4,
 "nbformat_minor": 0
}
